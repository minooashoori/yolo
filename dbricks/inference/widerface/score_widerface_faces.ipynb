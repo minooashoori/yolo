{
 "cells": [
  {
   "cell_type": "code",
   "execution_count": 0,
   "metadata": {
    "application/vnd.databricks.v1+cell": {
     "cellMetadata": {
      "byteLimit": 2048000,
      "rowLimit": 10000
     },
     "inputWidgets": {},
     "nuid": "f51fcf90-410d-470d-8066-9384bdf3e60c",
     "showTitle": false,
     "title": ""
    }
   },
   "outputs": [],
   "source": [
    "import sys\n",
    "import os\n",
    "sys.path.append(\"/Workspace/Users/pdacosta@integralads.com/.ide/ctx-inference_stack/src\")\n",
    "sys.path.append(\"/Workspace/Users/pdacosta@integralads.com/.ide/ctx-logoface-detector\")\n",
    "os.environ[\"AWS_PROFILE\"]=\"saml\""
   ]
  },
  {
   "cell_type": "code",
   "execution_count": 0,
   "metadata": {
    "application/vnd.databricks.v1+cell": {
     "cellMetadata": {
      "byteLimit": 2048000,
      "rowLimit": 10000
     },
     "inputWidgets": {},
     "nuid": "dce6ab1d-b726-43d2-8d20-3503e7c8f2b5",
     "showTitle": false,
     "title": ""
    }
   },
   "outputs": [],
   "source": [
    "from compute_engine.units.generator import UnitGenerator, UnitDeclatation\n",
    "from compute_engine.structures.entities import RunInfo\n",
    "from compute_engine.structures.messages import MessageHeader, RunInfoMessage, EndOfComputeMessage\n",
    "from compute_engine.structures.entities import FrameDetection, FrameDetections\n",
    "from compute_engine.units.handler import Handler, RunVariable\n",
    "from compute_engine.utils.message_capture import MessageCapture\n",
    "\n",
    "from concurrent.futures import Future\n",
    "import pyarrow.parquet as pq\n",
    "import asyncio\n",
    "import pyarrow as pa\n",
    "import tqdm\n",
    "import pandas as pd\n",
    "from pyspark.sql.functions import concat, lit, col\n",
    "from dbricks.dbutils.boxes import transf_any_box"
   ]
  },
  {
   "cell_type": "code",
   "execution_count": 0,
   "metadata": {
    "application/vnd.databricks.v1+cell": {
     "cellMetadata": {
      "byteLimit": 2048000,
      "rowLimit": 10000
     },
     "inputWidgets": {},
     "nuid": "f776edb7-3bbb-4127-ada9-9007f5c02255",
     "showTitle": false,
     "title": ""
    }
   },
   "outputs": [],
   "source": [
    "n_workers = 2\n",
    "model_batch_size = 16\n",
    "detection_min_size_percentage = 0.01\n",
    "confidence_threshold = 0.0\n",
    "\n",
    "\n",
    "batch_size = 16\n",
    "generate_uris = True\n",
    "ignore_progress = True\n",
    "\n",
    "dbfs_mnt_path_faces = '/dbfs/mnt/innovation/pdacosta/data/wider_face/preds_faces/xywh'\n",
    "dbfs_mnt_path_uris = '/dbfs/mnt/innovation/pdacosta/data/wider_face/preds_faces/xywh/uris'\n",
    "\n",
    "pyspark_mnt_path_faces = dbfs_mnt_path_faces.replace('/dbfs', '')\n",
    "pyspark_mnt_path_uris = dbfs_mnt_path_uris.replace('/dbfs', '')\n",
    "\n",
    "csv_mnt_path = \"/dbfs/mnt/innovation/pdacosta/data/wider_face/dataset/\"\n",
    "pyspark_csv_mnt_path = csv_mnt_path.replace('/dbfs', '')\n",
    "\n",
    "s3_prefix = \"s3://mls.us-east-1.innovation/pdacosta/data/wider_face/dataset/\"\n",
    "\n",
    "progress_file = os.path.join(dbfs_mnt_path_uris, 'progress.txt')"
   ]
  },
  {
   "cell_type": "code",
   "execution_count": 0,
   "metadata": {
    "application/vnd.databricks.v1+cell": {
     "cellMetadata": {
      "byteLimit": 2048000,
      "rowLimit": 10000
     },
     "inputWidgets": {},
     "nuid": "892b622d-49f9-48b9-b8ed-1599f038ccf4",
     "showTitle": false,
     "title": ""
    }
   },
   "outputs": [],
   "source": [
    "i = 0\n",
    "def gen_message(url):\n",
    "    global i\n",
    "    run_info = {}\n",
    "    run_info[\"export\"] = 'json'\n",
    "    run_info[\"pipeline\"] = {\"mode\": \"semi_auto\"}\n",
    "    run_info[\"source\"] = {\n",
    "        \"kind\": \"image\",\n",
    "        \"url\": url,\n",
    "        \"uuid\": \"0\"\n",
    "    }\n",
    "    run_info[\"run\"] = {\n",
    "        \"id\": i\n",
    "    }\n",
    "    i += 1\n",
    "    run_info[\"company\"] = {\"id\": 0}\n",
    "    run_info = RunInfo(**run_info, atomic=None)\n",
    "    return run_info"
   ]
  },
  {
   "cell_type": "code",
   "execution_count": 0,
   "metadata": {
    "application/vnd.databricks.v1+cell": {
     "cellMetadata": {
      "byteLimit": 2048000,
      "rowLimit": 10000
     },
     "inputWidgets": {},
     "nuid": "4580ad1b-b712-4057-9785-950a5d6ce121",
     "showTitle": false,
     "title": ""
    }
   },
   "outputs": [
    {
     "output_type": "stream",
     "name": "stderr",
     "output_type": "stream",
     "text": [
      "\u001B[32m2023-10-05 14:27:27,141\u001B[0m \u001B[35m0712-085056-y3y7acgy-10-104-23-245\u001B[0m \u001B[34mMainThread#5421:cloud_storage.l67\u001B[0m \u001B[1;30mINFO\u001B[0m Begin to download 3 files from models/detectors/faces/face_detector_march_20-20230116-tf/\n\u001B[32m2023-10-05 14:27:27,142\u001B[0m \u001B[35m0712-085056-y3y7acgy-10-104-23-245\u001B[0m \u001B[34mMainThread#5421:cloud_storage.l97\u001B[0m \u001B[1;30mINFO\u001B[0m Downloading models/detectors/faces/face_detector_march_20-20230116-tf/saved_model.pb file to ./models/detectors/faces/face_detector_march_20-20230116-tf//saved_model.pb ...\n\u001B[32m2023-10-05 14:27:27,806\u001B[0m \u001B[35m0712-085056-y3y7acgy-10-104-23-245\u001B[0m \u001B[34mMainThread#5421:cloud_storage.l99\u001B[0m \u001B[1;30mINFO\u001B[0m Downloading models/detectors/faces/face_detector_march_20-20230116-tf/saved_model.pb file to ./models/detectors/faces/face_detector_march_20-20230116-tf//saved_model.pb done\n\u001B[32m2023-10-05 14:27:27,807\u001B[0m \u001B[35m0712-085056-y3y7acgy-10-104-23-245\u001B[0m \u001B[34mMainThread#5421:cloud_storage.l97\u001B[0m \u001B[1;30mINFO\u001B[0m Downloading models/detectors/faces/face_detector_march_20-20230116-tf/variables/variables.data-00000-of-00001 file to ./models/detectors/faces/face_detector_march_20-20230116-tf//variables/variables.data-00000-of-00001 ...\n\u001B[32m2023-10-05 14:27:30,102\u001B[0m \u001B[35m0712-085056-y3y7acgy-10-104-23-245\u001B[0m \u001B[34mMainThread#5421:cloud_storage.l99\u001B[0m \u001B[1;30mINFO\u001B[0m Downloading models/detectors/faces/face_detector_march_20-20230116-tf/variables/variables.data-00000-of-00001 file to ./models/detectors/faces/face_detector_march_20-20230116-tf//variables/variables.data-00000-of-00001 done\n\u001B[32m2023-10-05 14:27:30,103\u001B[0m \u001B[35m0712-085056-y3y7acgy-10-104-23-245\u001B[0m \u001B[34mMainThread#5421:cloud_storage.l97\u001B[0m \u001B[1;30mINFO\u001B[0m Downloading models/detectors/faces/face_detector_march_20-20230116-tf/variables/variables.index file to ./models/detectors/faces/face_detector_march_20-20230116-tf//variables/variables.index ...\n\u001B[32m2023-10-05 14:27:30,274\u001B[0m \u001B[35m0712-085056-y3y7acgy-10-104-23-245\u001B[0m \u001B[34mMainThread#5421:cloud_storage.l99\u001B[0m \u001B[1;30mINFO\u001B[0m Downloading models/detectors/faces/face_detector_march_20-20230116-tf/variables/variables.index file to ./models/detectors/faces/face_detector_march_20-20230116-tf//variables/variables.index done\n"
     ]
    },
    {
     "output_type": "stream",
     "name": "stdout",
     "output_type": "stream",
     "text": [
      "WARNING:tensorflow:From /Workspace/Users/pdacosta@integralads.com/.ide/ctx-inference_stack/src/compute_engine/blocks/detection/detector.py:42: load (from tensorflow.python.saved_model.loader_impl) is deprecated and will be removed in a future version.\nInstructions for updating:\nThis function will only be available through the v1 compatibility library as tf.compat.v1.saved_model.loader.load or tf.compat.v1.saved_model.load. There will be a new function for importing SavedModels in Tensorflow 2.0.\nINFO:tensorflow:Restoring parameters from ./models/detectors/faces/face_detector_march_20-20230116-tf/variables/variables\n"
     ]
    },
    {
     "output_type": "stream",
     "name": "stderr",
     "output_type": "stream",
     "text": [
      "\u001B[32m2023-10-05 14:27:36,986\u001B[0m \u001B[35m0712-085056-y3y7acgy-10-104-23-245\u001B[0m \u001B[34mMainThread#5421:detector.l82\u001B[0m \u001B[1;30mINFO\u001B[0m warm_up detector ...\n\u001B[32m2023-10-05 14:27:43,862\u001B[0m \u001B[35m0712-085056-y3y7acgy-10-104-23-245\u001B[0m \u001B[34mMainThread#5421:detector.l87\u001B[0m \u001B[1;30mINFO\u001B[0m warm_up detector done\n"
     ]
    }
   ],
   "source": [
    "unit_generator = UnitGenerator(model_engine=\"tf\")\n",
    "unit_generator.set_config(\"database_client\", None)\n",
    "unit_generator.set_config(\"bucket_name\", \"reminiz.production\")\n",
    "unit_generator.set_config(\"cloud_provider\", \"aws\")\n",
    "unit_generator.set_config(\"models_local_path\", \"./\")\n",
    "unit_generator.set_config(\"s3_bucket_url\", \"\")\n",
    "\n",
    "\n",
    "units = []\n",
    "with unit_generator:\n",
    "    input_unit = unit_generator.units.downloader()\n",
    "    x = input_unit\n",
    "    units.append(x)\n",
    "    x @= unit_generator.units.run_frame_extractor()\n",
    "    units.append(x)\n",
    "    x @= unit_generator.units.frame_resizer(target_size=416)\n",
    "    units.append(x)\n",
    "    x @= unit_generator.units.detector(\n",
    "        max_workers= n_workers,\n",
    "        model_path= \"models/detectors/faces/face_detector_march_20-20230116-tf/\",\n",
    "        batchsize= model_batch_size,\n",
    "        detection_min_size_percentage= detection_min_size_percentage,\n",
    "        confidence_threshold=confidence_threshold\n",
    "    )"
   ]
  },
  {
   "cell_type": "code",
   "execution_count": 0,
   "metadata": {
    "application/vnd.databricks.v1+cell": {
     "cellMetadata": {
      "byteLimit": 2048000,
      "rowLimit": 10000
     },
     "inputWidgets": {},
     "nuid": "fde990cb-38c9-45cc-aab4-6d7d5ee4bfe3",
     "showTitle": false,
     "title": ""
    }
   },
   "outputs": [
    {
     "output_type": "stream",
     "name": "stdout",
     "output_type": "stream",
     "text": [
      "Number of images to process: 3226\nAssets: ['0_Parade_Parade_0_102.jpg', '0_Parade_Parade_0_12.jpg']\nUris: ['s3://mls.us-east-1.innovation/pdacosta/data/wider_face/dataset/val/0_Parade_Parade_0_102.jpg', 's3://mls.us-east-1.innovation/pdacosta/data/wider_face/dataset/val/0_Parade_Parade_0_12.jpg']\n"
     ]
    }
   ],
   "source": [
    "if generate_uris:\n",
    "    \n",
    "    # read the csv files with the annotations\n",
    "    val_df = spark.read.csv(os.path.join(pyspark_csv_mnt_path, \"val.csv\"), header=True)\n",
    "    \n",
    "    # stack the dataframes\n",
    "    df = val_df\n",
    "    \n",
    "    # create the correct uri for the images, we need to add the s3 prefix to the paths\n",
    "    df = df.withColumn(\"uri\", concat(lit(s3_prefix), col(\"path\")))\n",
    "    \n",
    "    # filter out the images that are too small, cannot have a dimension smaller than 96 px\n",
    "    df = df.filter((col(\"width\") >= 96) & (col(\"height\") >= 96))\n",
    "    \n",
    "    #keep only the columns we need\n",
    "    df = df.select(\"asset\", \"uri\")\n",
    "    \n",
    "    # read the assets already saved\n",
    "    # if the file does not exist, avoid the error\n",
    "    # try:\n",
    "    #     assets_saved = spark.read.parquet(pyspark_mnt_path_faces)\n",
    "    #     assets_saved = assets_saved.select(\"asset\").distinct()\n",
    "    #     # filter out the assets already saved\n",
    "    #     df = df.join(assets_saved, on=\"asset\", how=\"left_anti\")\n",
    "    # except:\n",
    "    #     pass\n",
    "\n",
    "    # make sure we have no duplicates\n",
    "    df = df.dropDuplicates([\"asset\"])\n",
    "    \n",
    "    #save df as a csv file \n",
    "    df.write.mode(\"overwrite\").csv(os.path.join(pyspark_mnt_path_uris, \"uris.csv\"), header=True)\n",
    "        \n",
    "else:\n",
    "    \n",
    "    df = spark.read.csv(os.path.join(pyspark_mnt_path_uris, \"uris.csv\"), header=True)\n",
    "    \n",
    "\n",
    "# collect the uris and assets into a python lists\n",
    "rows = df.collect()\n",
    "assets, uris = [row.asset for row in rows], [row.uri for row in rows]\n",
    "df.unpersist()\n",
    "\n",
    "print(f\"Number of images to process: {len(assets)}\")\n",
    "print(f\"Assets: {assets[:2]}\")\n",
    "print(f\"Uris: {uris[:2]}\")    "
   ]
  },
  {
   "cell_type": "code",
   "execution_count": 0,
   "metadata": {
    "application/vnd.databricks.v1+cell": {
     "cellMetadata": {
      "byteLimit": 2048000,
      "rowLimit": 10000
     },
     "inputWidgets": {},
     "nuid": "1f7bc2c3-875a-437d-853a-16381eb8b01a",
     "showTitle": false,
     "title": ""
    }
   },
   "outputs": [
    {
     "output_type": "stream",
     "name": "stderr",
     "output_type": "stream",
     "text": [
      "\u001B[32m2023-10-05 14:31:14,347\u001B[0m \u001B[35m0712-085056-y3y7acgy-10-104-23-245\u001B[0m \u001B[34mThread-10#5421:unit.l417\u001B[0m \u001B[1;30mINFO\u001B[0m \u001B[94mdownloader unit running with 1 worker(s) ...\u001B[0m\n\u001B[32m2023-10-05 14:31:14,347\u001B[0m \u001B[35m0712-085056-y3y7acgy-10-104-23-245\u001B[0m \u001B[34mThread-12#5421:unit.l417\u001B[0m \u001B[1;30mINFO\u001B[0m \u001B[94mrun_frame_extractor unit running with 1 worker(s) ...\u001B[0m\n\u001B[32m2023-10-05 14:31:14,348\u001B[0m \u001B[35m0712-085056-y3y7acgy-10-104-23-245\u001B[0m \u001B[34mThread-14#5421:unit.l417\u001B[0m \u001B[1;30mINFO\u001B[0m \u001B[94mframe_resizer unit running with 1 worker(s) ...\u001B[0m\n\u001B[32m2023-10-05 14:31:14,348\u001B[0m \u001B[35m0712-085056-y3y7acgy-10-104-23-245\u001B[0m \u001B[34mThread-16#5421:unit.l417\u001B[0m \u001B[1;30mINFO\u001B[0m \u001B[94mdetector unit running with 2 worker(s) ...\u001B[0m\n\u001B[32m2023-10-05 14:31:14,352\u001B[0m \u001B[35m0712-085056-y3y7acgy-10-104-23-245\u001B[0m \u001B[34mThread-10#5421:downloader.l83\u001B[0m \u001B[1;30mDEBUG\u001B[0m \u001B[32mDownloading asset s3://mls.us-east-1.innovation/pdacosta/data/wider_face/dataset/val/0_Parade_Parade_0_102.jpg ...\u001B[0m\n\u001B[32m2023-10-05 14:31:14,526\u001B[0m \u001B[35m0712-085056-y3y7acgy-10-104-23-245\u001B[0m \u001B[34mThread-10#5421:downloader.l138\u001B[0m \u001B[1;30mDEBUG\u001B[0m \u001B[32mAsset s3://mls.us-east-1.innovation/pdacosta/data/wider_face/dataset/val/0_Parade_Parade_0_102.jpg size is 185.3 kB\u001B[0m\n\u001B[32m2023-10-05 14:31:14,654\u001B[0m \u001B[35m0712-085056-y3y7acgy-10-104-23-245\u001B[0m \u001B[34mThread-10#5421:downloader.l209\u001B[0m \u001B[1;30mDEBUG\u001B[0m \u001B[32mDownloading asset s3://mls.us-east-1.innovation/pdacosta/data/wider_face/dataset/val/0_Parade_Parade_0_102.jpg done\u001B[0m\n\u001B[32m2023-10-05 14:31:14,717\u001B[0m \u001B[35m0712-085056-y3y7acgy-10-104-23-245\u001B[0m \u001B[34mThread-9#5421:performance_monitor.l59\u001B[0m \u001B[1;30mINFO\u001B[0m \u001B[93m                    downloader - 1.0 msg/s\u001B[0m\n\u001B[32m2023-10-05 14:31:15,139\u001B[0m \u001B[35m0712-085056-y3y7acgy-10-104-23-245\u001B[0m \u001B[34mThread-11#5421:performance_monitor.l59\u001B[0m \u001B[1;30mINFO\u001B[0m \u001B[93m           run_frame_extractor - 1.0 msg/s\u001B[0m\n\u001B[32m2023-10-05 14:31:15,214\u001B[0m \u001B[35m0712-085056-y3y7acgy-10-104-23-245\u001B[0m \u001B[34mThread-13#5421:performance_monitor.l59\u001B[0m \u001B[1;30mINFO\u001B[0m \u001B[93m                 frame_resizer - 1.0 msg/s\u001B[0m\n"
     ]
    },
    {
     "output_type": "stream",
     "name": "stdout",
     "output_type": "stream",
     "text": [
      "Out[9]: [{'frame': array([[[107, 115, 118],\n          [108, 116, 119],\n          [124, 132, 134],\n          ...,\n          [ 42,  40,  25],\n          [ 38,  34,  25],\n          [ 34,  30,  21]],\n  \n         [[106, 114, 117],\n          [112, 120, 123],\n          [144, 152, 154],\n          ...,\n          [ 39,  37,  22],\n          [ 34,  30,  21],\n          [ 29,  25,  16]],\n  \n         [[102, 109, 117],\n          [117, 124, 132],\n          [164, 172, 175],\n          ...,\n          [ 40,  39,  21],\n          [ 36,  34,  19],\n          [ 33,  31,  16]],\n  \n         ...,\n  \n         [[173, 169, 160],\n          [173, 169, 160],\n          [174, 170, 161],\n          ...,\n          [252, 232,  37],\n          [252, 230,  46],\n          [252, 230,  46]],\n  \n         [[172, 168, 159],\n          [172, 168, 159],\n          [173, 169, 160],\n          ...,\n          [252, 232,  37],\n          [252, 230,  46],\n          [252, 230,  46]],\n  \n         [[171, 167, 158],\n          [171, 167, 158],\n          [172, 168, 159],\n          ...,\n          [252, 232,  39],\n          [252, 230,  48],\n          [252, 230,  48]]], dtype=uint8),\n  'frame_detections': FrameDetections(detections=[FrameDetection(classification=[('face', 0.8815881013870239)], t_detected='2023-10-05 14:31:15.807700', timecode=0.0, box=[0.5114845037460327, 0.6569910049438477, 0.5323764085769653, 0.6891286373138428], crop=None, features=None, language=None, script='latin'), FrameDetection(classification=[('face', 0.7930646538734436)], t_detected='2023-10-05 14:31:15.807700', timecode=0.0, box=[0.3209429979324341, 0.6625308990478516, 0.340288907289505, 0.691055953502655], crop=None, features=None, language=None, script='latin'), FrameDetection(classification=[('face', 0.7476673126220703)], t_detected='2023-10-05 14:31:15.807700', timecode=0.0, box=[0.1788681298494339, 0.6515694260597229, 0.19776500761508942, 0.680591344833374], crop=None, features=None, language=None, script='latin'), FrameDetection(classification=[('face', 0.7446264028549194)], t_detected='2023-10-05 14:31:15.807700', timecode=0.0, box=[0.5784887671470642, 0.638728141784668, 0.5992310643196106, 0.6675921678543091], crop=None, features=None, language=None, script='latin'), FrameDetection(classification=[('face', 0.7368147969245911)], t_detected='2023-10-05 14:31:15.807700', timecode=0.0, box=[0.7817362546920776, 0.5364245176315308, 0.810994565486908, 0.5795283317565918], crop=None, features=None, language=None, script='latin'), FrameDetection(classification=[('face', 0.7143416404724121)], t_detected='2023-10-05 14:31:15.807700', timecode=0.0, box=[0.08130639046430588, 0.6585830450057983, 0.09616393595933914, 0.6819605231285095], crop=None, features=None, language=None, script='latin'), FrameDetection(classification=[('face', 0.6905355453491211)], t_detected='2023-10-05 14:31:15.807700', timecode=0.0, box=[0.05589084327220917, 0.6619155406951904, 0.07061205059289932, 0.6847652196884155], crop=None, features=None, language=None, script='latin'), FrameDetection(classification=[('face', 0.6771523356437683)], t_detected='2023-10-05 14:31:15.807700', timecode=0.0, box=[0.2617649435997009, 0.6470103859901428, 0.27854809165000916, 0.6724650263786316], crop=None, features=None, language=None, script='latin'), FrameDetection(classification=[('face', 0.6623222231864929)], t_detected='2023-10-05 14:31:15.807700', timecode=0.0, box=[0.13180673122406006, 0.6428298354148865, 0.14383776485919952, 0.6609251499176025], crop=None, features=None, language=None, script='latin'), FrameDetection(classification=[('face', 0.6413213610649109)], t_detected='2023-10-05 14:31:15.807700', timecode=0.0, box=[0.6461181044578552, 0.6454708576202393, 0.6668018698692322, 0.6740596294403076], crop=None, features=None, language=None, script='latin'), FrameDetection(classification=[('face', 0.6292128562927246)], t_detected='2023-10-05 14:31:15.807700', timecode=0.0, box=[0.4117138683795929, 0.6556925773620605, 0.43091467022895813, 0.6832228899002075], crop=None, features=None, language=None, script='latin'), FrameDetection(classification=[('face', 0.5740038752555847)], t_detected='2023-10-05 14:31:15.807700', timecode=0.0, box=[0.9122032523155212, 0.5328130125999451, 0.9355968832969666, 0.5727357864379883], crop=None, features=None, language=None, script='latin'), FrameDetection(classification=[('face', 0.5715583562850952)], t_detected='2023-10-05 14:31:15.807700', timecode=0.0, box=[0.29323065280914307, 0.6545149087905884, 0.3070146143436432, 0.6746399402618408], crop=None, features=None, language=None, script='latin'), FrameDetection(classification=[('face', 0.570489764213562)], t_detected='2023-10-05 14:31:15.807700', timecode=0.0, box=[0.0413970872759819, 0.6409425139427185, 0.055700089782476425, 0.6619167327880859], crop=None, features=None, language=None, script='latin'), FrameDetection(classification=[('face', 0.5679264068603516)], t_detected='2023-10-05 14:31:15.807700', timecode=0.0, box=[0.7223072052001953, 0.6510108709335327, 0.7414966225624084, 0.6772470474243164], crop=None, features=None, language=None, script='latin'), FrameDetection(classification=[('face', 0.5355754494667053)], t_detected='2023-10-05 14:31:15.807700', timecode=0.0, box=[0.06129762902855873, 0.6374732851982117, 0.07508768141269684, 0.6577991843223572], crop=None, features=None, language=None, script='latin'), FrameDetection(classification=[('face', 0.5212874412536621)], t_detected='2023-10-05 14:31:15.807700', timecode=0.0, box=[0.4787024259567261, 0.6350006461143494, 0.49679869413375854, 0.6616324186325073], crop=None, features=None, language=None, script='latin'), FrameDetection(classification=[('face', 0.5107817053794861)], t_detected='2023-10-05 14:31:15.807700', timecode=0.0, box=[0.6974955797195435, 0.6450591087341309, 0.7087309956550598, 0.6630094647407532], crop=None, features=None, language=None, script='latin'), FrameDetection(classification=[('face', 0.510235607624054)], t_detected='2023-10-05 14:31:15.807700', timecode=0.0, box=[0.5349566340446472, 0.6603643894195557, 0.5504769086837769, 0.6839112043380737], crop=None, features=None, language=None, script='latin')], al_score=0.0, features=None)}]"
     ]
    },
    {
     "output_type": "stream",
     "name": "stderr",
     "output_type": "stream",
     "text": [
      "\u001B[32m2023-10-05 14:31:15,819\u001B[0m \u001B[35m0712-085056-y3y7acgy-10-104-23-245\u001B[0m \u001B[34mThread-15#5421:performance_monitor.l59\u001B[0m \u001B[1;30mINFO\u001B[0m \u001B[93m                      detector - 1.0 msg/s\u001B[0m\n"
     ]
    }
   ],
   "source": [
    "f = input_unit(\n",
    "    run_info=gen_message(\n",
    "        url=uris[0]\n",
    "    )\n",
    ")\n",
    "f.result()"
   ]
  },
  {
   "cell_type": "code",
   "execution_count": 0,
   "metadata": {
    "application/vnd.databricks.v1+cell": {
     "cellMetadata": {
      "byteLimit": 2048000,
      "rowLimit": 10000
     },
     "inputWidgets": {},
     "nuid": "c0902a11-52f2-4502-add3-82f4079ab2e1",
     "showTitle": false,
     "title": ""
    }
   },
   "outputs": [],
   "source": [
    "def save_batch(assets, uris, boxes, idx):\n",
    "    \n",
    "    \n",
    "    data = [{\"asset\":asset, \"uri\": uri, \"boxes\": boxes} for asset, uri, boxes in zip(assets, uris, boxes)]\n",
    "    \n",
    "    df_ = pd.DataFrame(data)\n",
    "    table = pa.Table.from_pandas(df_)\n",
    "    parquet_filename = os.path.join(dbfs_mnt_path_faces, f\"face_boxes_{str(idx).zfill(6)}.parquet\")\n",
    "    try:\n",
    "        pq.write_table(table, parquet_filename)\n",
    "        with open(progress_file, 'w') as f:\n",
    "            f.write(str(idx))\n",
    "    except:\n",
    "        raise Exception('Could not save the parquet file')"
   ]
  },
  {
   "cell_type": "code",
   "execution_count": 0,
   "metadata": {
    "application/vnd.databricks.v1+cell": {
     "cellMetadata": {
      "byteLimit": 2048000,
      "rowLimit": 10000
     },
     "inputWidgets": {},
     "nuid": "a78df038-61ef-4618-a0fe-482a46cbbb12",
     "showTitle": false,
     "title": ""
    }
   },
   "outputs": [
    {
     "output_type": "stream",
     "name": "stdout",
     "output_type": "stream",
     "text": [
      "Progress: 0 out of 3226 images\n"
     ]
    }
   ],
   "source": [
    "if not ignore_progress:\n",
    "    # read the progress index from a file\n",
    "    try:\n",
    "        with open(progress_file, 'r') as f:\n",
    "            progress = int(f.read())\n",
    "    except:\n",
    "        progress = 0\n",
    "else:\n",
    "    progress = 0\n",
    "\n",
    "n_uris = len(uris)\n",
    "print(f'Progress: {progress} out of {n_uris} images')"
   ]
  },
  {
   "cell_type": "code",
   "execution_count": 0,
   "metadata": {
    "application/vnd.databricks.v1+cell": {
     "cellMetadata": {
      "byteLimit": 2048000,
      "rowLimit": 10000
     },
     "inputWidgets": {},
     "nuid": "c59cb3b3-0984-4bcb-bb9b-2b7364cab9ac",
     "showTitle": false,
     "title": ""
    }
   },
   "outputs": [
    {
     "output_type": "stream",
     "name": "stderr",
     "output_type": "stream",
     "text": [
      "\u001B[32m2023-10-05 14:34:12,490\u001B[0m \u001B[35m0712-085056-y3y7acgy-10-104-23-245\u001B[0m \u001B[34mThread-10#5421:downloader.l83\u001B[0m \u001B[1;30mDEBUG\u001B[0m \u001B[32mDownloading asset s3://mls.us-east-1.innovation/pdacosta/data/wider_face/dataset/val/0_Parade_Parade_0_102.jpg ...\u001B[0m\n\u001B[32m2023-10-05 14:34:12,492\u001B[0m \u001B[35m0712-085056-y3y7acgy-10-104-23-245\u001B[0m \u001B[34mThread-10#5421:downloader.l83\u001B[0m \u001B[1;30mDEBUG\u001B[0m \u001B[32mDownloading asset s3://mls.us-east-1.innovation/pdacosta/data/wider_face/dataset/val/0_Parade_Parade_0_12.jpg ...\u001B[0m\n\u001B[32m2023-10-05 14:34:12,494\u001B[0m \u001B[35m0712-085056-y3y7acgy-10-104-23-245\u001B[0m \u001B[34mThread-10#5421:downloader.l83\u001B[0m \u001B[1;30mDEBUG\u001B[0m \u001B[32mDownloading asset s3://mls.us-east-1.innovation/pdacosta/data/wider_face/dataset/val/0_Parade_Parade_0_120.jpg ...\u001B[0m\n\u001B[32m2023-10-05 14:34:12,496\u001B[0m \u001B[35m0712-085056-y3y7acgy-10-104-23-245\u001B[0m \u001B[34mThread-10#5421:downloader.l83\u001B[0m \u001B[1;30mDEBUG\u001B[0m \u001B[32mDownloading asset s3://mls.us-east-1.innovation/pdacosta/data/wider_face/dataset/val/0_Parade_Parade_0_125.jpg ...\u001B[0m\n\u001B[32m2023-10-05 14:34:12,498\u001B[0m \u001B[35m0712-085056-y3y7acgy-10-104-23-245\u001B[0m \u001B[34mThread-10#5421:downloader.l83\u001B[0m \u001B[1;30mDEBUG\u001B[0m \u001B[32mDownloading asset s3://mls.us-east-1.innovation/pdacosta/data/wider_face/dataset/val/0_Parade_Parade_0_137.jpg ...\u001B[0m\n\u001B[32m2023-10-05 14:34:12,500\u001B[0m \u001B[35m0712-085056-y3y7acgy-10-104-23-245\u001B[0m \u001B[34mThread-10#5421:downloader.l83\u001B[0m \u001B[1;30mDEBUG\u001B[0m \u001B[32mDownloading asset s3://mls.us-east-1.innovation/pdacosta/data/wider_face/dataset/val/0_Parade_Parade_0_164.jpg ...\u001B[0m\n\u001B[32m2023-10-05 14:34:12,501\u001B[0m \u001B[35m0712-085056-y3y7acgy-10-104-23-245\u001B[0m \u001B[34mThread-10#5421:downloader.l83\u001B[0m \u001B[1;30mDEBUG\u001B[0m \u001B[32mDownloading asset s3://mls.us-east-1.innovation/pdacosta/data/wider_face/dataset/val/0_Parade_Parade_0_194.jpg ...\u001B[0m\n\u001B[32m2023-10-05 14:34:12,503\u001B[0m \u001B[35m0712-085056-y3y7acgy-10-104-23-245\u001B[0m \u001B[34mThread-10#5421:downloader.l83\u001B[0m \u001B[1;30mDEBUG\u001B[0m \u001B[32mDownloading asset s3://mls.us-east-1.innovation/pdacosta/data/wider_face/dataset/val/0_Parade_Parade_0_205.jpg ...\u001B[0m\n\u001B[32m2023-10-05 14:34:12,505\u001B[0m \u001B[35m0712-085056-y3y7acgy-10-104-23-245\u001B[0m \u001B[34mThread-10#5421:downloader.l83\u001B[0m \u001B[1;30mDEBUG\u001B[0m \u001B[32mDownloading asset s3://mls.us-east-1.innovation/pdacosta/data/wider_face/dataset/val/0_Parade_Parade_0_218.jpg ...\u001B[0m\n\u001B[32m2023-10-05 14:34:12,506\u001B[0m \u001B[35m0712-085056-y3y7acgy-10-104-23-245\u001B[0m \u001B[34mThread-10#5421:downloader.l83\u001B[0m \u001B[1;30mDEBUG\u001B[0m \u001B[32mDownloading asset s3://mls.us-east-1.innovation/pdacosta/data/wider_face/dataset/val/0_Parade_Parade_0_239.jpg ...\u001B[0m\n\u001B[32m2023-10-05 14:34:12,507\u001B[0m \u001B[35m0712-085056-y3y7acgy-10-104-23-245\u001B[0m \u001B[34mThread-10#5421:downloader.l83\u001B[0m \u001B[1;30mDEBUG\u001B[0m \u001B[32mDownloading asset s3://mls.us-east-1.innovation/pdacosta/data/wider_face/dataset/val/0_Parade_Parade_0_246.jpg ...\u001B[0m\n\u001B[32m2023-10-05 14:34:12,509\u001B[0m \u001B[35m0712-085056-y3y7acgy-10-104-23-245\u001B[0m \u001B[34mThread-10#5421:downloader.l83\u001B[0m \u001B[1;30mDEBUG\u001B[0m \u001B[32mDownloading asset s3://mls.us-east-1.innovation/pdacosta/data/wider_face/dataset/val/0_Parade_Parade_0_247.jpg ...\u001B[0m\n\u001B[32m2023-10-05 14:34:12,511\u001B[0m \u001B[35m0712-085056-y3y7acgy-10-104-23-245\u001B[0m \u001B[34mThread-10#5421:downloader.l83\u001B[0m \u001B[1;30mDEBUG\u001B[0m \u001B[32mDownloading asset s3://mls.us-east-1.innovation/pdacosta/data/wider_face/dataset/val/0_Parade_Parade_0_266.jpg ...\u001B[0m\n\u001B[32m2023-10-05 14:34:12,512\u001B[0m \u001B[35m0712-085056-y3y7acgy-10-104-23-245\u001B[0m \u001B[34mThread-10#5421:downloader.l83\u001B[0m \u001B[1;30mDEBUG\u001B[0m \u001B[32mDownloading asset s3://mls.us-east-1.innovation/pdacosta/data/wider_face/dataset/val/0_Parade_Parade_0_275.jpg ...\u001B[0m\n\u001B[32m2023-10-05 14:34:12,514\u001B[0m \u001B[35m0712-085056-y3y7acgy-10-104-23-245\u001B[0m \u001B[34mThread-10#5421:downloader.l83\u001B[0m \u001B[1;30mDEBUG\u001B[0m \u001B[32mDownloading asset s3://mls.us-east-1.innovation/pdacosta/data/wider_face/dataset/val/0_Parade_Parade_0_286.jpg ...\u001B[0m\n\u001B[32m2023-10-05 14:34:12,516\u001B[0m \u001B[35m0712-085056-y3y7acgy-10-104-23-245\u001B[0m \u001B[34mThread-10#5421:downloader.l83\u001B[0m \u001B[1;30mDEBUG\u001B[0m \u001B[32mDownloading asset s3://mls.us-east-1.innovation/pdacosta/data/wider_face/dataset/val/0_Parade_Parade_0_288.jpg ...\u001B[0m\n\u001B[32m2023-10-05 14:34:12,556\u001B[0m \u001B[35m0712-085056-y3y7acgy-10-104-23-245\u001B[0m \u001B[34mThread-10#5421:downloader.l138\u001B[0m \u001B[1;30mDEBUG\u001B[0m \u001B[32mAsset s3://mls.us-east-1.innovation/pdacosta/data/wider_face/dataset/val/0_Parade_Parade_0_194.jpg size is 212.5 kB\u001B[0m\n\u001B[32m2023-10-05 14:34:12,559\u001B[0m \u001B[35m0712-085056-y3y7acgy-10-104-23-245\u001B[0m \u001B[34mThread-10#5421:downloader.l138\u001B[0m \u001B[1;30mDEBUG\u001B[0m \u001B[32mAsset s3://mls.us-east-1.innovation/pdacosta/data/wider_face/dataset/val/0_Parade_Parade_0_12.jpg size is 180.4 kB\u001B[0m\n\u001B[32m2023-10-05 14:34:12,563\u001B[0m \u001B[35m0712-085056-y3y7acgy-10-104-23-245\u001B[0m \u001B[34mThread-10#5421:downloader.l138\u001B[0m \u001B[1;30mDEBUG\u001B[0m \u001B[32mAsset s3://mls.us-east-1.innovation/pdacosta/data/wider_face/dataset/val/0_Parade_Parade_0_218.jpg size is 155.1 kB\u001B[0m\n\u001B[32m2023-10-05 14:34:12,565\u001B[0m \u001B[35m0712-085056-y3y7acgy-10-104-23-245\u001B[0m \u001B[34mThread-10#5421:downloader.l138\u001B[0m \u001B[1;30mDEBUG\u001B[0m \u001B[32mAsset s3://mls.us-east-1.innovation/pdacosta/data/wider_face/dataset/val/0_Parade_Parade_0_239.jpg size is 122.1 kB\u001B[0m\n\u001B[32m2023-10-05 14:34:12,567\u001B[0m \u001B[35m0712-085056-y3y7acgy-10-104-23-245\u001B[0m \u001B[34mThread-10#5421:downloader.l138\u001B[0m \u001B[1;30mDEBUG\u001B[0m \u001B[32mAsset s3://mls.us-east-1.innovation/pdacosta/data/wider_face/dataset/val/0_Parade_Parade_0_205.jpg size is 144.4 kB\u001B[0m\n\u001B[32m2023-10-05 14:34:12,569\u001B[0m \u001B[35m0712-085056-y3y7acgy-10-104-23-245\u001B[0m \u001B[34mThread-10#5421:downloader.l138\u001B[0m \u001B[1;30mDEBUG\u001B[0m \u001B[32mAsset s3://mls.us-east-1.innovation/pdacosta/data/wider_face/dataset/val/0_Parade_Parade_0_102.jpg size is 185.3 kB\u001B[0m\n\u001B[32m2023-10-05 14:34:12,572\u001B[0m \u001B[35m0712-085056-y3y7acgy-10-104-23-245\u001B[0m \u001B[34mThread-10#5421:downloader.l138\u001B[0m \u001B[1;30mDEBUG\u001B[0m \u001B[32mAsset s3://mls.us-east-1.innovation/pdacosta/data/wider_face/dataset/val/0_Parade_Parade_0_120.jpg size is 156.2 kB\u001B[0m\n\u001B[32m2023-10-05 14:34:12,573\u001B[0m \u001B[35m0712-085056-y3y7acgy-10-104-23-245\u001B[0m \u001B[34mThread-10#5421:downloader.l138\u001B[0m \u001B[1;30mDEBUG\u001B[0m \u001B[32mAsset s3://mls.us-east-1.innovation/pdacosta/data/wider_face/dataset/val/0_Parade_Parade_0_246.jpg size is 144.1 kB\u001B[0m\n\u001B[32m2023-10-05 14:34:12,576\u001B[0m \u001B[35m0712-085056-y3y7acgy-10-104-23-245\u001B[0m \u001B[34mThread-10#5421:downloader.l138\u001B[0m \u001B[1;30mDEBUG\u001B[0m \u001B[32mAsset s3://mls.us-east-1.innovation/pdacosta/data/wider_face/dataset/val/0_Parade_Parade_0_164.jpg size is 165.3 kB\u001B[0m\n\u001B[32m2023-10-05 14:34:12,578\u001B[0m \u001B[35m0712-085056-y3y7acgy-10-104-23-245\u001B[0m \u001B[34mThread-10#5421:downloader.l138\u001B[0m \u001B[1;30mDEBUG\u001B[0m \u001B[32mAsset s3://mls.us-east-1.innovation/pdacosta/data/wider_face/dataset/val/0_Parade_Parade_0_125.jpg size is 157.9 kB\u001B[0m\n\u001B[32m2023-10-05 14:34:12,580\u001B[0m \u001B[35m0712-085056-y3y7acgy-10-104-23-245\u001B[0m \u001B[34mThread-10#5421:downloader.l138\u001B[0m \u001B[1;30mDEBUG\u001B[0m \u001B[32mAsset s3://mls.us-east-1.innovation/pdacosta/data/wider_face/dataset/val/0_Parade_Parade_0_247.jpg size is 110.8 kB\u001B[0m\n\u001B[32m2023-10-05 14:34:12,583\u001B[0m \u001B[35m0712-085056-y3y7acgy-10-104-23-245\u001B[0m \u001B[34mThread-10#5421:downloader.l138\u001B[0m \u001B[1;30mDEBUG\u001B[0m \u001B[32mAsset s3://mls.us-east-1.innovation/pdacosta/data/wider_face/dataset/val/0_Parade_Parade_0_266.jpg size is 122.4 kB\u001B[0m\n\u001B[32m2023-10-05 14:34:12,585\u001B[0m \u001B[35m0712-085056-y3y7acgy-10-104-23-245\u001B[0m \u001B[34mThread-10#5421:downloader.l138\u001B[0m \u001B[1;30mDEBUG\u001B[0m \u001B[32mAsset s3://mls.us-east-1.innovation/pdacosta/data/wider_face/dataset/val/0_Parade_Parade_0_288.jpg size is 102.8 kB\u001B[0m\n\u001B[32m2023-10-05 14:34:12,587\u001B[0m \u001B[35m0712-085056-y3y7acgy-10-104-23-245\u001B[0m \u001B[34mThread-10#5421:downloader.l138\u001B[0m \u001B[1;30mDEBUG\u001B[0m \u001B[32mAsset s3://mls.us-east-1.innovation/pdacosta/data/wider_face/dataset/val/0_Parade_Parade_0_137.jpg size is 124.4 kB\u001B[0m\n\u001B[32m2023-10-05 14:34:12,588\u001B[0m \u001B[35m0712-085056-y3y7acgy-10-104-23-245\u001B[0m \u001B[34mThread-10#5421:downloader.l138\u001B[0m \u001B[1;30mDEBUG\u001B[0m \u001B[32mAsset s3://mls.us-east-1.innovation/pdacosta/data/wider_face/dataset/val/0_Parade_Parade_0_286.jpg size is 115.6 kB\u001B[0m\n\u001B[32m2023-10-05 14:34:12,590\u001B[0m \u001B[35m0712-085056-y3y7acgy-10-104-23-245\u001B[0m \u001B[34mThread-10#5421:downloader.l138\u001B[0m \u001B[1;30mDEBUG\u001B[0m \u001B[32mAsset s3://mls.us-east-1.innovation/pdacosta/data/wider_face/dataset/val/0_Parade_Parade_0_275.jpg size is 208.5 kB\u001B[0m\n\u001B[32m2023-10-05 14:34:12,657\u001B[0m \u001B[35m0712-085056-y3y7acgy-10-104-23-245\u001B[0m \u001B[34mThread-10#5421:downloader.l209\u001B[0m \u001B[1;30mDEBUG\u001B[0m \u001B[32mDownloading asset s3://mls.us-east-1.innovation/pdacosta/data/wider_face/dataset/val/0_Parade_Parade_0_194.jpg done\u001B[0m\n\u001B[32m2023-10-05 14:34:12,662\u001B[0m \u001B[35m0712-085056-y3y7acgy-10-104-23-245\u001B[0m \u001B[34mThread-10#5421:downloader.l209\u001B[0m \u001B[1;30mDEBUG\u001B[0m \u001B[32mDownloading asset s3://mls.us-east-1.innovation/pdacosta/data/wider_face/dataset/val/0_Parade_Parade_0_164.jpg done\u001B[0m\n\u001B[32m2023-10-05 14:34:12,675\u001B[0m \u001B[35m0712-085056-y3y7acgy-10-104-23-245\u001B[0m \u001B[34mThread-10#5421:downloader.l209\u001B[0m \u001B[1;30mDEBUG\u001B[0m \u001B[32mDownloading asset s3://mls.us-east-1.innovation/pdacosta/data/wider_face/dataset/val/0_Parade_Parade_0_12.jpg done\u001B[0m\n\u001B[32m2023-10-05 14:34:12,679\u001B[0m \u001B[35m0712-085056-y3y7acgy-10-104-23-245\u001B[0m \u001B[34mThread-10#5421:downloader.l209\u001B[0m \u001B[1;30mDEBUG\u001B[0m \u001B[32mDownloading asset s3://mls.us-east-1.innovation/pdacosta/data/wider_face/dataset/val/0_Parade_Parade_0_205.jpg done\u001B[0m\n\u001B[32m2023-10-05 14:34:12,692\u001B[0m \u001B[35m0712-085056-y3y7acgy-10-104-23-245\u001B[0m \u001B[34mThread-10#5421:downloader.l209\u001B[0m \u001B[1;30mDEBUG\u001B[0m \u001B[32mDownloading asset s3://mls.us-east-1.innovation/pdacosta/data/wider_face/dataset/val/0_Parade_Parade_0_102.jpg done\u001B[0m\n\u001B[32m2023-10-05 14:34:12,695\u001B[0m \u001B[35m0712-085056-y3y7acgy-10-104-23-245\u001B[0m \u001B[34mThread-10#5421:downloader.l209\u001B[0m \u001B[1;30mDEBUG\u001B[0m \u001B[32mDownloading asset s3://mls.us-east-1.innovation/pdacosta/data/wider_face/dataset/val/0_Parade_Parade_0_246.jpg done\u001B[0m\n\u001B[32m2023-10-05 14:34:12,702\u001B[0m \u001B[35m0712-085056-y3y7acgy-10-104-23-245\u001B[0m \u001B[34mThread-10#5421:downloader.l209\u001B[0m \u001B[1;30mDEBUG\u001B[0m \u001B[32mDownloading asset s3://mls.us-east-1.innovation/pdacosta/data/wider_face/dataset/val/0_Parade_Parade_0_239.jpg done\u001B[0m\n\u001B[32m2023-10-05 14:34:12,703\u001B[0m \u001B[35m0712-085056-y3y7acgy-10-104-23-245\u001B[0m \u001B[34mThread-10#5421:downloader.l209\u001B[0m \u001B[1;30mDEBUG\u001B[0m \u001B[32mDownloading asset s3://mls.us-east-1.innovation/pdacosta/data/wider_face/dataset/val/0_Parade_Parade_0_125.jpg done\u001B[0m\n\u001B[32m2023-10-05 14:34:12,708\u001B[0m \u001B[35m0712-085056-y3y7acgy-10-104-23-245\u001B[0m \u001B[34mThread-9#5421:performance_monitor.l59\u001B[0m \u001B[1;30mINFO\u001B[0m \u001B[93m                    downloader - 8.0 msg/s\u001B[0m\n\u001B[32m2023-10-05 14:34:12,708\u001B[0m \u001B[35m0712-085056-y3y7acgy-10-104-23-245\u001B[0m \u001B[34mThread-11#5421:performance_monitor.l59\u001B[0m \u001B[1;30mINFO\u001B[0m \u001B[93m           run_frame_extractor - 6.0 msg/s\u001B[0m\n\u001B[32m2023-10-05 14:34:12,708\u001B[0m \u001B[35m0712-085056-y3y7acgy-10-104-23-245\u001B[0m \u001B[34mThread-13#5421:performance_monitor.l59\u001B[0m \u001B[1;30mINFO\u001B[0m \u001B[93m                 frame_resizer - 6.0 msg/s\u001B[0m\n\u001B[32m2023-10-05 14:34:12,726\u001B[0m \u001B[35m0712-085056-y3y7acgy-10-104-23-245\u001B[0m \u001B[34mThread-10#5421:downloader.l209\u001B[0m \u001B[1;30mDEBUG\u001B[0m \u001B[32mDownloading asset s3://mls.us-east-1.innovation/pdacosta/data/wider_face/dataset/val/0_Parade_Parade_0_218.jpg done\u001B[0m\n\u001B[32m2023-10-05 14:34:12,734\u001B[0m \u001B[35m0712-085056-y3y7acgy-10-104-23-245\u001B[0m \u001B[34mThread-10#5421:downloader.l209\u001B[0m \u001B[1;30mDEBUG\u001B[0m \u001B[32mDownloading asset s3://mls.us-east-1.innovation/pdacosta/data/wider_face/dataset/val/0_Parade_Parade_0_120.jpg done\u001B[0m\n\u001B[32m2023-10-05 14:34:12,758\u001B[0m \u001B[35m0712-085056-y3y7acgy-10-104-23-245\u001B[0m \u001B[34mThread-10#5421:downloader.l209\u001B[0m \u001B[1;30mDEBUG\u001B[0m \u001B[32mDownloading asset s3://mls.us-east-1.innovation/pdacosta/data/wider_face/dataset/val/0_Parade_Parade_0_247.jpg done\u001B[0m\n\u001B[32m2023-10-05 14:34:12,767\u001B[0m \u001B[35m0712-085056-y3y7acgy-10-104-23-245\u001B[0m \u001B[34mThread-10#5421:downloader.l209\u001B[0m \u001B[1;30mDEBUG\u001B[0m \u001B[32mDownloading asset s3://mls.us-east-1.innovation/pdacosta/data/wider_face/dataset/val/0_Parade_Parade_0_288.jpg done\u001B[0m\n\u001B[32m2023-10-05 14:34:12,771\u001B[0m \u001B[35m0712-085056-y3y7acgy-10-104-23-245\u001B[0m \u001B[34mThread-10#5421:downloader.l209\u001B[0m \u001B[1;30mDEBUG\u001B[0m \u001B[32mDownloading asset s3://mls.us-east-1.innovation/pdacosta/data/wider_face/dataset/val/0_Parade_Parade_0_266.jpg done\u001B[0m\n\u001B[32m2023-10-05 14:34:12,784\u001B[0m \u001B[35m0712-085056-y3y7acgy-10-104-23-245\u001B[0m \u001B[34mThread-10#5421:downloader.l209\u001B[0m \u001B[1;30mDEBUG\u001B[0m \u001B[32mDownloading asset s3://mls.us-east-1.innovation/pdacosta/data/wider_face/dataset/val/0_Parade_Parade_0_137.jpg done\u001B[0m\n\u001B[32m2023-10-05 14:34:12,788\u001B[0m \u001B[35m0712-085056-y3y7acgy-10-104-23-245\u001B[0m \u001B[34mThread-10#5421:downloader.l209\u001B[0m \u001B[1;30mDEBUG\u001B[0m \u001B[32mDownloading asset s3://mls.us-east-1.innovation/pdacosta/data/wider_face/dataset/val/0_Parade_Parade_0_286.jpg done\u001B[0m\n\u001B[32m2023-10-05 14:34:12,862\u001B[0m \u001B[35m0712-085056-y3y7acgy-10-104-23-245\u001B[0m \u001B[34mThread-10#5421:downloader.l209\u001B[0m \u001B[1;30mDEBUG\u001B[0m \u001B[32mDownloading asset s3://mls.us-east-1.innovation/pdacosta/data/wider_face/dataset/val/0_Parade_Parade_0_275.jpg done\u001B[0m\n\u001B[32m2023-10-05 14:34:12,994\u001B[0m \u001B[35m0712-085056-y3y7acgy-10-104-23-245\u001B[0m \u001B[34mThread-10#5421:downloader.l83\u001B[0m \u001B[1;30mDEBUG\u001B[0m \u001B[32mDownloading asset s3://mls.us-east-1.innovation/pdacosta/data/wider_face/dataset/val/0_Parade_Parade_0_29.jpg ...\u001B[0m\n\u001B[32m2023-10-05 14:34:12,998\u001B[0m \u001B[35m0712-085056-y3y7acgy-10-104-23-245\u001B[0m \u001B[34mThread-10#5421:downloader.l83\u001B[0m \u001B[1;30mDEBUG\u001B[0m \u001B[32mDownloading asset s3://mls.us-east-1.innovation/pdacosta/data/wider_face/dataset/val/0_Parade_Parade_0_317.jpg ...\u001B[0m\n\u001B[32m2023-10-05 14:34:13,000\u001B[0m \u001B[35m0712-085056-y3y7acgy-10-104-23-245\u001B[0m \u001B[34mThread-10#5421:downloader.l83\u001B[0m \u001B[1;30mDEBUG\u001B[0m \u001B[32mDownloading asset s3://mls.us-east-1.innovation/pdacosta/data/wider_face/dataset/val/0_Parade_Parade_0_353.jpg ...\u001B[0m\n\u001B[32m2023-10-05 14:34:13,002\u001B[0m \u001B[35m0712-085056-y3y7acgy-10-104-23-245\u001B[0m \u001B[34mThread-10#5421:downloader.l83\u001B[0m \u001B[1;30mDEBUG\u001B[0m \u001B[32mDownloading asset s3://mls.us-east-1.innovation/pdacosta/data/wider_face/dataset/val/0_Parade_Parade_0_364.jpg ...\u001B[0m\n\u001B[32m2023-10-05 14:34:13,003\u001B[0m \u001B[35m0712-085056-y3y7acgy-10-104-23-245\u001B[0m \u001B[34mThread-10#5421:downloader.l83\u001B[0m \u001B[1;30mDEBUG\u001B[0m \u001B[32mDownloading asset s3://mls.us-east-1.innovation/pdacosta/data/wider_face/dataset/val/0_Parade_Parade_0_376.jpg ...\u001B[0m\n\u001B[32m2023-10-05 14:34:13,005\u001B[0m \u001B[35m0712-085056-y3y7acgy-10-104-23-245\u001B[0m \u001B[34mThread-10#5421:downloader.l83\u001B[0m \u001B[1;30mDEBUG\u001B[0m \u001B[32mDownloading asset s3://mls.us-east-1.innovation/pdacosta/data/wider_face/dataset/val/0_Parade_Parade_0_377.jpg ...\u001B[0m\n\u001B[32m2023-10-05 14:34:13,006\u001B[0m \u001B[35m0712-085056-y3y7acgy-10-104-23-245\u001B[0m \u001B[34mThread-10#5421:downloader.l83\u001B[0m \u001B[1;30mDEBUG\u001B[0m \u001B[32mDownloading asset s3://mls.us-east-1.innovation/pdacosta/data/wider_face/dataset/val/0_Parade_Parade_0_382.jpg ...\u001B[0m\n\u001B[32m2023-10-05 14:34:13,008\u001B[0m \u001B[35m0712-085056-y3y7acgy-10-104-23-245\u001B[0m \u001B[34mThread-10#5421:downloader.l83\u001B[0m \u001B[1;30mDEBUG\u001B[0m \u001B[32mDownloading asset s3://mls.us-east-1.innovation/pdacosta/data/wider_face/dataset/val/0_Parade_Parade_0_429.jpg ...\u001B[0m\n\u001B[32m2023-10-05 14:34:13,010\u001B[0m \u001B[35m0712-085056-y3y7acgy-10-104-23-245\u001B[0m \u001B[34mThread-10#5421:downloader.l83\u001B[0m \u001B[1;30mDEBUG\u001B[0m \u001B[32mDownloading asset s3://mls.us-east-1.innovation/pdacosta/data/wider_face/dataset/val/0_Parade_Parade_0_43.jpg ...\u001B[0m\n\u001B[32m2023-10-05 14:34:13,011\u001B[0m \u001B[35m0712-085056-y3y7acgy-10-104-23-245\u001B[0m \u001B[34mThread-10#5421:downloader.l83\u001B[0m \u001B[1;30mDEBUG\u001B[0m \u001B[32mDownloading asset s3://mls.us-east-1.innovation/pdacosta/data/wider_face/dataset/val/0_Parade_Parade_0_443.jpg ...\u001B[0m\n\u001B[32m2023-10-05 14:34:13,013\u001B[0m \u001B[35m0712-085056-y3y7acgy-10-104-23-245\u001B[0m \u001B[34mThread-15#5421:performance_monitor.l59\u001B[0m \u001B[1;30mINFO\u001B[0m                       detector - 15.8 msg/s\n\u001B[32m2023-10-05 14:34:13,013\u001B[0m \u001B[35m0712-085056-y3y7acgy-10-104-23-245\u001B[0m \u001B[34mThread-10#5421:downloader.l83\u001B[0m \u001B[1;30mDEBUG\u001B[0m \u001B[32mDownloading asset s3://mls.us-east-1.innovation/pdacosta/data/wider_face/dataset/val/0_Parade_Parade_0_459.jpg ...\u001B[0m\n\u001B[32m2023-10-05 14:34:13,015\u001B[0m \u001B[35m0712-085056-y3y7acgy-10-104-23-245\u001B[0m \u001B[34mThread-10#5421:downloader.l83\u001B[0m \u001B[1;30mDEBUG\u001B[0m \u001B[32mDownloading asset s3://mls.us-east-1.innovation/pdacosta/data/wider_face/dataset/val/0_Parade_Parade_0_461.jpg ...\u001B[0m\n\u001B[32m2023-10-05 14:34:13,017\u001B[0m \u001B[35m0712-085056-y3y7acgy-10-104-23-245\u001B[0m \u001B[34mThread-10#5421:downloader.l83\u001B[0m \u001B[1;30mDEBUG\u001B[0m \u001B[32mDownloading asset s3://mls.us-east-1.innovation/pdacosta/data/wider_face/dataset/val/0_Parade_Parade_0_465.jpg ...\u001B[0m\n\u001B[32m2023-10-05 14:34:13,018\u001B[0m \u001B[35m0712-085056-y3y7acgy-10-104-23-245\u001B[0m \u001B[34mThread-10#5421:downloader.l83\u001B[0m \u001B[1;30mDEBUG\u001B[0m \u001B[32mDownloading asset s3://mls.us-east-1.innovation/pdacosta/data/wider_face/dataset/val/0_Parade_Parade_0_468.jpg ...\u001B[0m\n\u001B[32m2023-10-05 14:34:13,020\u001B[0m \u001B[35m0712-085056-y3y7acgy-10-104-23-245\u001B[0m \u001B[34mThread-10#5421:downloader.l83\u001B[0m \u001B[1;30mDEBUG\u001B[0m \u001B[32mDownloading asset s3://mls.us-east-1.innovation/pdacosta/data/wider_face/dataset/val/0_Parade_Parade_0_470.jpg ...\u001B[0m\n\u001B[32m2023-10-05 14:34:13,021\u001B[0m \u001B[35m0712-085056-y3y7acgy-10-104-23-245\u001B[0m \u001B[34mThread-10#5421:downloader.l83\u001B[0m \u001B[1;30mDEBUG\u001B[0m \u001B[32mDownloading asset s3://mls.us-east-1.innovation/pdacosta/data/wider_face/dataset/val/0_Parade_Parade_0_472.jpg ...\u001B[0m\n\u001B[32m2023-10-05 14:34:13,024\u001B[0m \u001B[35m0712-085056-y3y7acgy-10-104-23-245\u001B[0m \u001B[34mThread-10#5421:downloader.l138\u001B[0m \u001B[1;30mDEBUG\u001B[0m \u001B[32mAsset s3://mls.us-east-1.innovation/pdacosta/data/wider_face/dataset/val/0_Parade_Parade_0_29.jpg size is 122.4 kB\u001B[0m\n\u001B[32m2023-10-05 14:34:13,025\u001B[0m \u001B[35m0712-085056-y3y7acgy-10-104-23-245\u001B[0m \u001B[34mThread-10#5421:downloader.l138\u001B[0m \u001B[1;30mDEBUG\u001B[0m \u001B[32mAsset s3://mls.us-east-1.innovation/pdacosta/data/wider_face/dataset/val/0_Parade_Parade_0_317.jpg size is 97.9 kB\u001B[0m\n\u001B[32m2023-10-05 14:34:13,027\u001B[0m \u001B[35m0712-085056-y3y7acgy-10-104-23-245\u001B[0m \u001B[34mThread-10#5421:downloader.l138\u001B[0m \u001B[1;30mDEBUG\u001B[0m \u001B[32mAsset s3://mls.us-east-1.innovation/pdacosta/data/wider_face/dataset/val/0_Parade_Parade_0_353.jpg size is 114.2 kB\u001B[0m\n\u001B[32m2023-10-05 14:34:13,029\u001B[0m \u001B[35m0712-085056-y3y7acgy-10-104-23-245\u001B[0m \u001B[34mThread-10#5421:downloader.l138\u001B[0m \u001B[1;30mDEBUG\u001B[0m \u001B[32mAsset s3://mls.us-east-1.innovation/pdacosta/data/wider_face/dataset/val/0_Parade_Parade_0_377.jpg size is 127.4 kB\u001B[0m\n\u001B[32m2023-10-05 14:34:13,031\u001B[0m \u001B[35m0712-085056-y3y7acgy-10-104-23-245\u001B[0m \u001B[34mThread-10#5421:downloader.l138\u001B[0m \u001B[1;30mDEBUG\u001B[0m \u001B[32mAsset s3://mls.us-east-1.innovation/pdacosta/data/wider_face/dataset/val/0_Parade_Parade_0_364.jpg size is 92.9 kB\u001B[0m\n\u001B[32m2023-10-05 14:34:13,033\u001B[0m \u001B[35m0712-085056-y3y7acgy-10-104-23-245\u001B[0m \u001B[34mThread-10#5421:downloader.l138\u001B[0m \u001B[1;30mDEBUG\u001B[0m \u001B[32mAsset s3://mls.us-east-1.innovation/pdacosta/data/wider_face/dataset/val/0_Parade_Parade_0_429.jpg size is 105.6 kB\u001B[0m\n\u001B[32m2023-10-05 14:34:13,036\u001B[0m \u001B[35m0712-085056-y3y7acgy-10-104-23-245\u001B[0m \u001B[34mThread-10#5421:downloader.l138\u001B[0m \u001B[1;30mDEBUG\u001B[0m \u001B[32mAsset s3://mls.us-east-1.innovation/pdacosta/data/wider_face/dataset/val/0_Parade_Parade_0_43.jpg size is 188.3 kB\u001B[0m\n\u001B[32m2023-10-05 14:34:13,038\u001B[0m \u001B[35m0712-085056-y3y7acgy-10-104-23-245\u001B[0m \u001B[34mThread-10#5421:downloader.l138\u001B[0m \u001B[1;30mDEBUG\u001B[0m \u001B[32mAsset s3://mls.us-east-1.innovation/pdacosta/data/wider_face/dataset/val/0_Parade_Parade_0_382.jpg size is 149.6 kB\u001B[0m\n\u001B[32m2023-10-05 14:34:13,040\u001B[0m \u001B[35m0712-085056-y3y7acgy-10-104-23-245\u001B[0m \u001B[34mThread-10#5421:downloader.l138\u001B[0m \u001B[1;30mDEBUG\u001B[0m \u001B[32mAsset s3://mls.us-east-1.innovation/pdacosta/data/wider_face/dataset/val/0_Parade_Parade_0_443.jpg size is 106.8 kB\u001B[0m\n\u001B[32m2023-10-05 14:34:13,042\u001B[0m \u001B[35m0712-085056-y3y7acgy-10-104-23-245\u001B[0m \u001B[34mThread-10#5421:downloader.l138\u001B[0m \u001B[1;30mDEBUG\u001B[0m \u001B[32mAsset s3://mls.us-east-1.innovation/pdacosta/data/wider_face/dataset/val/0_Parade_Parade_0_376.jpg size is 103.6 kB\u001B[0m\n\u001B[32m2023-10-05 14:34:13,047\u001B[0m \u001B[35m0712-085056-y3y7acgy-10-104-23-245\u001B[0m \u001B[34mThread-10#5421:downloader.l138\u001B[0m \u001B[1;30mDEBUG\u001B[0m \u001B[32mAsset s3://mls.us-east-1.innovation/pdacosta/data/wider_face/dataset/val/0_Parade_Parade_0_465.jpg size is 140.9 kB\u001B[0m\n\u001B[32m2023-10-05 14:34:13,049\u001B[0m \u001B[35m0712-085056-y3y7acgy-10-104-23-245\u001B[0m \u001B[34mThread-10#5421:downloader.l138\u001B[0m \u001B[1;30mDEBUG\u001B[0m \u001B[32mAsset s3://mls.us-east-1.innovation/pdacosta/data/wider_face/dataset/val/0_Parade_Parade_0_470.jpg size is 128.7 kB\u001B[0m\n\u001B[32m2023-10-05 14:34:13,051\u001B[0m \u001B[35m0712-085056-y3y7acgy-10-104-23-245\u001B[0m \u001B[34mThread-10#5421:downloader.l138\u001B[0m \u001B[1;30mDEBUG\u001B[0m \u001B[32mAsset s3://mls.us-east-1.innovation/pdacosta/data/wider_face/dataset/val/0_Parade_Parade_0_459.jpg size is 161.9 kB\u001B[0m\n\u001B[32m2023-10-05 14:34:13,052\u001B[0m \u001B[35m0712-085056-y3y7acgy-10-104-23-245\u001B[0m \u001B[34mThread-10#5421:downloader.l138\u001B[0m \u001B[1;30mDEBUG\u001B[0m \u001B[32mAsset s3://mls.us-east-1.innovation/pdacosta/data/wider_face/dataset/val/0_Parade_Parade_0_468.jpg size is 190.1 kB\u001B[0m\n\u001B[32m2023-10-05 14:34:13,056\u001B[0m \u001B[35m0712-085056-y3y7acgy-10-104-23-245\u001B[0m \u001B[34mThread-10#5421:downloader.l138\u001B[0m \u001B[1;30mDEBUG\u001B[0m \u001B[32mAsset s3://mls.us-east-1.innovation/pdacosta/data/wider_face/dataset/val/0_Parade_Parade_0_472.jpg size is 138.2 kB\u001B[0m\n\u001B[32m2023-10-05 14:34:13,058\u001B[0m \u001B[35m0712-085056-y3y7acgy-10-104-23-245\u001B[0m \u001B[34mThread-10#5421:downloader.l138\u001B[0m \u001B[1;30mDEBUG\u001B[0m \u001B[32mAsset s3://mls.us-east-1.innovation/pdacosta/data/wider_face/dataset/val/0_Parade_Parade_0_461.jpg size is 92.3 kB\u001B[0m\n\u001B[32m2023-10-05 14:34:13,125\u001B[0m \u001B[35m0712-085056-y3y7acgy-10-104-23-245\u001B[0m \u001B[34mThread-10#5421:downloader.l209\u001B[0m \u001B[1;30mDEBUG\u001B[0m \u001B[32mDownloading asset s3://mls.us-east-1.innovation/pdacosta/data/wider_face/dataset/val/0_Parade_Parade_0_29.jpg done\u001B[0m\n\u001B[32m2023-10-05 14:34:13,142\u001B[0m \u001B[35m0712-085056-y3y7acgy-10-104-23-245\u001B[0m \u001B[34mThread-10#5421:downloader.l209\u001B[0m \u001B[1;30mDEBUG\u001B[0m \u001B[32mDownloading asset s3://mls.us-east-1.innovation/pdacosta/data/wider_face/dataset/val/0_Parade_Parade_0_382.jpg done\u001B[0m\n\u001B[32m2023-10-05 14:34:13,150\u001B[0m \u001B[35m0712-085056-y3y7acgy-10-104-23-245\u001B[0m \u001B[34mThread-10#5421:downloader.l209\u001B[0m \u001B[1;30mDEBUG\u001B[0m \u001B[32mDownloading asset s3://mls.us-east-1.innovation/pdacosta/data/wider_face/dataset/val/0_Parade_Parade_0_376.jpg done\u001B[0m\n\u001B[32m2023-10-05 14:34:13,153\u001B[0m \u001B[35m0712-085056-y3y7acgy-10-104-23-245\u001B[0m \u001B[34mThread-10#5421:downloader.l209\u001B[0m \u001B[1;30mDEBUG\u001B[0m \u001B[32mDownloading asset s3://mls.us-east-1.innovation/pdacosta/data/wider_face/dataset/val/0_Parade_Parade_0_43.jpg done\u001B[0m\n\u001B[32m2023-10-05 14:34:13,166\u001B[0m \u001B[35m0712-085056-y3y7acgy-10-104-23-245\u001B[0m \u001B[34mThread-10#5421:downloader.l209\u001B[0m \u001B[1;30mDEBUG\u001B[0m \u001B[32mDownloading asset s3://mls.us-east-1.innovation/pdacosta/data/wider_face/dataset/val/0_Parade_Parade_0_364.jpg done\u001B[0m\n\u001B[32m2023-10-05 14:34:13,173\u001B[0m \u001B[35m0712-085056-y3y7acgy-10-104-23-245\u001B[0m \u001B[34mThread-10#5421:downloader.l209\u001B[0m \u001B[1;30mDEBUG\u001B[0m \u001B[32mDownloading asset s3://mls.us-east-1.innovation/pdacosta/data/wider_face/dataset/val/0_Parade_Parade_0_443.jpg done\u001B[0m\n\u001B[32m2023-10-05 14:34:13,181\u001B[0m \u001B[35m0712-085056-y3y7acgy-10-104-23-245\u001B[0m \u001B[34mThread-10#5421:downloader.l209\u001B[0m \u001B[1;30mDEBUG\u001B[0m \u001B[32mDownloading asset s3://mls.us-east-1.innovation/pdacosta/data/wider_face/dataset/val/0_Parade_Parade_0_317.jpg done\u001B[0m\n\u001B[32m2023-10-05 14:34:13,208\u001B[0m \u001B[35m0712-085056-y3y7acgy-10-104-23-245\u001B[0m \u001B[34mThread-10#5421:downloader.l209\u001B[0m \u001B[1;30mDEBUG\u001B[0m \u001B[32mDownloading asset s3://mls.us-east-1.innovation/pdacosta/data/wider_face/dataset/val/0_Parade_Parade_0_429.jpg done\u001B[0m\n\u001B[32m2023-10-05 14:34:13,211\u001B[0m \u001B[35m0712-085056-y3y7acgy-10-104-23-245\u001B[0m \u001B[34mThread-10#5421:downloader.l209\u001B[0m \u001B[1;30mDEBUG\u001B[0m \u001B[32mDownloading asset s3://mls.us-east-1.innovation/pdacosta/data/wider_face/dataset/val/0_Parade_Parade_0_353.jpg done\u001B[0m\n\u001B[32m2023-10-05 14:34:13,237\u001B[0m \u001B[35m0712-085056-y3y7acgy-10-104-23-245\u001B[0m \u001B[34mThread-10#5421:downloader.l209\u001B[0m \u001B[1;30mDEBUG\u001B[0m \u001B[32mDownloading asset s3://mls.us-east-1.innovation/pdacosta/data/wider_face/dataset/val/0_Parade_Parade_0_377.jpg done\u001B[0m\n\u001B[32m2023-10-05 14:34:13,277\u001B[0m \u001B[35m0712-085056-y3y7acgy-10-104-23-245\u001B[0m \u001B[34mThread-10#5421:downloader.l209\u001B[0m \u001B[1;30mDEBUG\u001B[0m \u001B[32mDownloading asset s3://mls.us-east-1.innovation/pdacosta/data/wider_face/dataset/val/0_Parade_Parade_0_465.jpg done\u001B[0m\n\u001B[32m2023-10-05 14:34:13,281\u001B[0m \u001B[35m0712-085056-y3y7acgy-10-104-23-245\u001B[0m \u001B[34mThread-10#5421:downloader.l209\u001B[0m \u001B[1;30mDEBUG\u001B[0m \u001B[32mDownloading asset s3://mls.us-east-1.innovation/pdacosta/data/wider_face/dataset/val/0_Parade_Parade_0_461.jpg done\u001B[0m\n\u001B[32m2023-10-05 14:34:13,283\u001B[0m \u001B[35m0712-085056-y3y7acgy-10-104-23-245\u001B[0m \u001B[34mThread-10#5421:downloader.l209\u001B[0m \u001B[1;30mDEBUG\u001B[0m \u001B[32mDownloading asset s3://mls.us-east-1.innovation/pdacosta/data/wider_face/dataset/val/0_Parade_Parade_0_472.jpg done\u001B[0m\n\u001B[32m2023-10-05 14:34:13,318\u001B[0m \u001B[35m0712-085056-y3y7acgy-10-104-23-245\u001B[0m \u001B[34mThread-10#5421:downloader.l209\u001B[0m \u001B[1;30mDEBUG\u001B[0m \u001B[32mDownloading asset s3://mls.us-east-1.innovation/pdacosta/data/wider_face/dataset/val/0_\n\n*** WARNING: max output size exceeded, skipping output. ***\n\n712-085056-y3y7acgy-10-104-23-245\u001B[0m \u001B[34mThread-10#5421:downloader.l209\u001B[0m \u001B[1;30mDEBUG\u001B[0m \u001B[32mDownloading asset s3://mls.us-east-1.innovation/pdacosta/data/wider_face/dataset/val/9_Press_Conference_Press_Conference_9_431.jpg done\u001B[0m\n\u001B[32m2023-10-05 14:35:58,724\u001B[0m \u001B[35m0712-085056-y3y7acgy-10-104-23-245\u001B[0m \u001B[34mThread-10#5421:downloader.l209\u001B[0m \u001B[1;30mDEBUG\u001B[0m \u001B[32mDownloading asset s3://mls.us-east-1.innovation/pdacosta/data/wider_face/dataset/val/9_Press_Conference_Press_Conference_9_520.jpg done\u001B[0m\n\u001B[32m2023-10-05 14:35:58,728\u001B[0m \u001B[35m0712-085056-y3y7acgy-10-104-23-245\u001B[0m \u001B[34mThread-10#5421:downloader.l209\u001B[0m \u001B[1;30mDEBUG\u001B[0m \u001B[32mDownloading asset s3://mls.us-east-1.innovation/pdacosta/data/wider_face/dataset/val/9_Press_Conference_Press_Conference_9_518.jpg done\u001B[0m\n\u001B[32m2023-10-05 14:35:58,737\u001B[0m \u001B[35m0712-085056-y3y7acgy-10-104-23-245\u001B[0m \u001B[34mThread-10#5421:downloader.l209\u001B[0m \u001B[1;30mDEBUG\u001B[0m \u001B[32mDownloading asset s3://mls.us-east-1.innovation/pdacosta/data/wider_face/dataset/val/9_Press_Conference_Press_Conference_9_563.jpg done\u001B[0m\n\u001B[32m2023-10-05 14:35:58,748\u001B[0m \u001B[35m0712-085056-y3y7acgy-10-104-23-245\u001B[0m \u001B[34mThread-10#5421:downloader.l209\u001B[0m \u001B[1;30mDEBUG\u001B[0m \u001B[32mDownloading asset s3://mls.us-east-1.innovation/pdacosta/data/wider_face/dataset/val/9_Press_Conference_Press_Conference_9_595.jpg done\u001B[0m\n\u001B[32m2023-10-05 14:35:58,771\u001B[0m \u001B[35m0712-085056-y3y7acgy-10-104-23-245\u001B[0m \u001B[34mThread-10#5421:downloader.l209\u001B[0m \u001B[1;30mDEBUG\u001B[0m \u001B[32mDownloading asset s3://mls.us-east-1.innovation/pdacosta/data/wider_face/dataset/val/9_Press_Conference_Press_Conference_9_43.jpg done\u001B[0m\n\u001B[32m2023-10-05 14:35:58,775\u001B[0m \u001B[35m0712-085056-y3y7acgy-10-104-23-245\u001B[0m \u001B[34mThread-10#5421:downloader.l209\u001B[0m \u001B[1;30mDEBUG\u001B[0m \u001B[32mDownloading asset s3://mls.us-east-1.innovation/pdacosta/data/wider_face/dataset/val/9_Press_Conference_Press_Conference_9_571.jpg done\u001B[0m\n\u001B[32m2023-10-05 14:35:58,799\u001B[0m \u001B[35m0712-085056-y3y7acgy-10-104-23-245\u001B[0m \u001B[34mThread-10#5421:downloader.l209\u001B[0m \u001B[1;30mDEBUG\u001B[0m \u001B[32mDownloading asset s3://mls.us-east-1.innovation/pdacosta/data/wider_face/dataset/val/9_Press_Conference_Press_Conference_9_594.jpg done\u001B[0m\n\u001B[32m2023-10-05 14:35:58,814\u001B[0m \u001B[35m0712-085056-y3y7acgy-10-104-23-245\u001B[0m \u001B[34mThread-10#5421:downloader.l209\u001B[0m \u001B[1;30mDEBUG\u001B[0m \u001B[32mDownloading asset s3://mls.us-east-1.innovation/pdacosta/data/wider_face/dataset/val/9_Press_Conference_Press_Conference_9_60.jpg done\u001B[0m\n\u001B[32m2023-10-05 14:35:58,846\u001B[0m \u001B[35m0712-085056-y3y7acgy-10-104-23-245\u001B[0m \u001B[34mThread-10#5421:downloader.l209\u001B[0m \u001B[1;30mDEBUG\u001B[0m \u001B[32mDownloading asset s3://mls.us-east-1.innovation/pdacosta/data/wider_face/dataset/val/9_Press_Conference_Press_Conference_9_432.jpg done\u001B[0m\n\u001B[32m2023-10-05 14:35:58,869\u001B[0m \u001B[35m0712-085056-y3y7acgy-10-104-23-245\u001B[0m \u001B[34mThread-10#5421:downloader.l209\u001B[0m \u001B[1;30mDEBUG\u001B[0m \u001B[32mDownloading asset s3://mls.us-east-1.innovation/pdacosta/data/wider_face/dataset/val/9_Press_Conference_Press_Conference_9_45.jpg done\u001B[0m\n\u001B[32m2023-10-05 14:35:58,908\u001B[0m \u001B[35m0712-085056-y3y7acgy-10-104-23-245\u001B[0m \u001B[34mThread-10#5421:downloader.l209\u001B[0m \u001B[1;30mDEBUG\u001B[0m \u001B[32mDownloading asset s3://mls.us-east-1.innovation/pdacosta/data/wider_face/dataset/val/9_Press_Conference_Press_Conference_9_552.jpg done\u001B[0m\n\u001B[32m2023-10-05 14:35:59,037\u001B[0m \u001B[35m0712-085056-y3y7acgy-10-104-23-245\u001B[0m \u001B[34mThread-10#5421:downloader.l83\u001B[0m \u001B[1;30mDEBUG\u001B[0m \u001B[32mDownloading asset s3://mls.us-east-1.innovation/pdacosta/data/wider_face/dataset/val/9_Press_Conference_Press_Conference_9_607.jpg ...\u001B[0m\n\u001B[32m2023-10-05 14:35:59,040\u001B[0m \u001B[35m0712-085056-y3y7acgy-10-104-23-245\u001B[0m \u001B[34mThread-10#5421:downloader.l83\u001B[0m \u001B[1;30mDEBUG\u001B[0m \u001B[32mDownloading asset s3://mls.us-east-1.innovation/pdacosta/data/wider_face/dataset/val/9_Press_Conference_Press_Conference_9_613.jpg ...\u001B[0m\n\u001B[32m2023-10-05 14:35:59,042\u001B[0m \u001B[35m0712-085056-y3y7acgy-10-104-23-245\u001B[0m \u001B[34mThread-10#5421:downloader.l83\u001B[0m \u001B[1;30mDEBUG\u001B[0m \u001B[32mDownloading asset s3://mls.us-east-1.innovation/pdacosta/data/wider_face/dataset/val/9_Press_Conference_Press_Conference_9_615.jpg ...\u001B[0m\n\u001B[32m2023-10-05 14:35:59,043\u001B[0m \u001B[35m0712-085056-y3y7acgy-10-104-23-245\u001B[0m \u001B[34mThread-10#5421:downloader.l83\u001B[0m \u001B[1;30mDEBUG\u001B[0m \u001B[32mDownloading asset s3://mls.us-east-1.innovation/pdacosta/data/wider_face/dataset/val/9_Press_Conference_Press_Conference_9_632.jpg ...\u001B[0m\n\u001B[32m2023-10-05 14:35:59,045\u001B[0m \u001B[35m0712-085056-y3y7acgy-10-104-23-245\u001B[0m \u001B[34mThread-10#5421:downloader.l83\u001B[0m \u001B[1;30mDEBUG\u001B[0m \u001B[32mDownloading asset s3://mls.us-east-1.innovation/pdacosta/data/wider_face/dataset/val/9_Press_Conference_Press_Conference_9_636.jpg ...\u001B[0m\n\u001B[32m2023-10-05 14:35:59,046\u001B[0m \u001B[35m0712-085056-y3y7acgy-10-104-23-245\u001B[0m \u001B[34mThread-10#5421:downloader.l83\u001B[0m \u001B[1;30mDEBUG\u001B[0m \u001B[32mDownloading asset s3://mls.us-east-1.innovation/pdacosta/data/wider_face/dataset/val/9_Press_Conference_Press_Conference_9_648.jpg ...\u001B[0m\n\u001B[32m2023-10-05 14:35:59,048\u001B[0m \u001B[35m0712-085056-y3y7acgy-10-104-23-245\u001B[0m \u001B[34mThread-10#5421:downloader.l83\u001B[0m \u001B[1;30mDEBUG\u001B[0m \u001B[32mDownloading asset s3://mls.us-east-1.innovation/pdacosta/data/wider_face/dataset/val/9_Press_Conference_Press_Conference_9_655.jpg ...\u001B[0m\n\u001B[32m2023-10-05 14:35:59,049\u001B[0m \u001B[35m0712-085056-y3y7acgy-10-104-23-245\u001B[0m \u001B[34mThread-10#5421:downloader.l83\u001B[0m \u001B[1;30mDEBUG\u001B[0m \u001B[32mDownloading asset s3://mls.us-east-1.innovation/pdacosta/data/wider_face/dataset/val/9_Press_Conference_Press_Conference_9_658.jpg ...\u001B[0m\n\u001B[32m2023-10-05 14:35:59,051\u001B[0m \u001B[35m0712-085056-y3y7acgy-10-104-23-245\u001B[0m \u001B[34mThread-10#5421:downloader.l83\u001B[0m \u001B[1;30mDEBUG\u001B[0m \u001B[32mDownloading asset s3://mls.us-east-1.innovation/pdacosta/data/wider_face/dataset/val/9_Press_Conference_Press_Conference_9_66.jpg ...\u001B[0m\n\u001B[32m2023-10-05 14:35:59,052\u001B[0m \u001B[35m0712-085056-y3y7acgy-10-104-23-245\u001B[0m \u001B[34mThread-10#5421:downloader.l83\u001B[0m \u001B[1;30mDEBUG\u001B[0m \u001B[32mDownloading asset s3://mls.us-east-1.innovation/pdacosta/data/wider_face/dataset/val/9_Press_Conference_Press_Conference_9_693.jpg ...\u001B[0m\n\u001B[32m2023-10-05 14:35:59,054\u001B[0m \u001B[35m0712-085056-y3y7acgy-10-104-23-245\u001B[0m \u001B[34mThread-10#5421:downloader.l83\u001B[0m \u001B[1;30mDEBUG\u001B[0m \u001B[32mDownloading asset s3://mls.us-east-1.innovation/pdacosta/data/wider_face/dataset/val/9_Press_Conference_Press_Conference_9_710.jpg ...\u001B[0m\n\u001B[32m2023-10-05 14:35:59,055\u001B[0m \u001B[35m0712-085056-y3y7acgy-10-104-23-245\u001B[0m \u001B[34mThread-10#5421:downloader.l83\u001B[0m \u001B[1;30mDEBUG\u001B[0m \u001B[32mDownloading asset s3://mls.us-east-1.innovation/pdacosta/data/wider_face/dataset/val/9_Press_Conference_Press_Conference_9_74.jpg ...\u001B[0m\n\u001B[32m2023-10-05 14:35:59,056\u001B[0m \u001B[35m0712-085056-y3y7acgy-10-104-23-245\u001B[0m \u001B[34mThread-10#5421:downloader.l83\u001B[0m \u001B[1;30mDEBUG\u001B[0m \u001B[32mDownloading asset s3://mls.us-east-1.innovation/pdacosta/data/wider_face/dataset/val/9_Press_Conference_Press_Conference_9_748.jpg ...\u001B[0m\n\u001B[32m2023-10-05 14:35:59,058\u001B[0m \u001B[35m0712-085056-y3y7acgy-10-104-23-245\u001B[0m \u001B[34mThread-10#5421:downloader.l83\u001B[0m \u001B[1;30mDEBUG\u001B[0m \u001B[32mDownloading asset s3://mls.us-east-1.innovation/pdacosta/data/wider_face/dataset/val/9_Press_Conference_Press_Conference_9_757.jpg ...\u001B[0m\n\u001B[32m2023-10-05 14:35:59,059\u001B[0m \u001B[35m0712-085056-y3y7acgy-10-104-23-245\u001B[0m \u001B[34mThread-10#5421:downloader.l83\u001B[0m \u001B[1;30mDEBUG\u001B[0m \u001B[32mDownloading asset s3://mls.us-east-1.innovation/pdacosta/data/wider_face/dataset/val/9_Press_Conference_Press_Conference_9_767.jpg ...\u001B[0m\n\u001B[32m2023-10-05 14:35:59,060\u001B[0m \u001B[35m0712-085056-y3y7acgy-10-104-23-245\u001B[0m \u001B[34mThread-10#5421:downloader.l83\u001B[0m \u001B[1;30mDEBUG\u001B[0m \u001B[32mDownloading asset s3://mls.us-east-1.innovation/pdacosta/data/wider_face/dataset/val/9_Press_Conference_Press_Conference_9_784.jpg ...\u001B[0m\n\u001B[32m2023-10-05 14:35:59,063\u001B[0m \u001B[35m0712-085056-y3y7acgy-10-104-23-245\u001B[0m \u001B[34mThread-10#5421:downloader.l138\u001B[0m \u001B[1;30mDEBUG\u001B[0m \u001B[32mAsset s3://mls.us-east-1.innovation/pdacosta/data/wider_face/dataset/val/9_Press_Conference_Press_Conference_9_607.jpg size is 178.4 kB\u001B[0m\n\u001B[32m2023-10-05 14:35:59,065\u001B[0m \u001B[35m0712-085056-y3y7acgy-10-104-23-245\u001B[0m \u001B[34mThread-10#5421:downloader.l138\u001B[0m \u001B[1;30mDEBUG\u001B[0m \u001B[32mAsset s3://mls.us-east-1.innovation/pdacosta/data/wider_face/dataset/val/9_Press_Conference_Press_Conference_9_613.jpg size is 199.8 kB\u001B[0m\n\u001B[32m2023-10-05 14:35:59,066\u001B[0m \u001B[35m0712-085056-y3y7acgy-10-104-23-245\u001B[0m \u001B[34mThread-10#5421:downloader.l138\u001B[0m \u001B[1;30mDEBUG\u001B[0m \u001B[32mAsset s3://mls.us-east-1.innovation/pdacosta/data/wider_face/dataset/val/9_Press_Conference_Press_Conference_9_615.jpg size is 61.5 kB\u001B[0m\n\u001B[32m2023-10-05 14:35:59,068\u001B[0m \u001B[35m0712-085056-y3y7acgy-10-104-23-245\u001B[0m \u001B[34mThread-10#5421:downloader.l138\u001B[0m \u001B[1;30mDEBUG\u001B[0m \u001B[32mAsset s3://mls.us-east-1.innovation/pdacosta/data/wider_face/dataset/val/9_Press_Conference_Press_Conference_9_632.jpg size is 109.5 kB\u001B[0m\n\u001B[32m2023-10-05 14:35:59,070\u001B[0m \u001B[35m0712-085056-y3y7acgy-10-104-23-245\u001B[0m \u001B[34mThread-10#5421:downloader.l138\u001B[0m \u001B[1;30mDEBUG\u001B[0m \u001B[32mAsset s3://mls.us-east-1.innovation/pdacosta/data/wider_face/dataset/val/9_Press_Conference_Press_Conference_9_636.jpg size is 109.3 kB\u001B[0m\n\u001B[32m2023-10-05 14:35:59,071\u001B[0m \u001B[35m0712-085056-y3y7acgy-10-104-23-245\u001B[0m \u001B[34mThread-10#5421:downloader.l138\u001B[0m \u001B[1;30mDEBUG\u001B[0m \u001B[32mAsset s3://mls.us-east-1.innovation/pdacosta/data/wider_face/dataset/val/9_Press_Conference_Press_Conference_9_648.jpg size is 123.3 kB\u001B[0m\n\u001B[32m2023-10-05 14:35:59,073\u001B[0m \u001B[35m0712-085056-y3y7acgy-10-104-23-245\u001B[0m \u001B[34mThread-10#5421:downloader.l138\u001B[0m \u001B[1;30mDEBUG\u001B[0m \u001B[32mAsset s3://mls.us-east-1.innovation/pdacosta/data/wider_face/dataset/val/9_Press_Conference_Press_Conference_9_655.jpg size is 114.1 kB\u001B[0m\n\u001B[32m2023-10-05 14:35:59,075\u001B[0m \u001B[35m0712-085056-y3y7acgy-10-104-23-245\u001B[0m \u001B[34mThread-10#5421:downloader.l138\u001B[0m \u001B[1;30mDEBUG\u001B[0m \u001B[32mAsset s3://mls.us-east-1.innovation/pdacosta/data/wider_face/dataset/val/9_Press_Conference_Press_Conference_9_658.jpg size is 117.1 kB\u001B[0m\n\u001B[32m2023-10-05 14:35:59,079\u001B[0m \u001B[35m0712-085056-y3y7acgy-10-104-23-245\u001B[0m \u001B[34mThread-10#5421:downloader.l138\u001B[0m \u001B[1;30mDEBUG\u001B[0m \u001B[32mAsset s3://mls.us-east-1.innovation/pdacosta/data/wider_face/dataset/val/9_Press_Conference_Press_Conference_9_693.jpg size is 96.8 kB\u001B[0m\n\u001B[32m2023-10-05 14:35:59,087\u001B[0m \u001B[35m0712-085056-y3y7acgy-10-104-23-245\u001B[0m \u001B[34mThread-10#5421:downloader.l138\u001B[0m \u001B[1;30mDEBUG\u001B[0m \u001B[32mAsset s3://mls.us-east-1.innovation/pdacosta/data/wider_face/dataset/val/9_Press_Conference_Press_Conference_9_66.jpg size is 77.5 kB\u001B[0m\n\u001B[32m2023-10-05 14:35:59,090\u001B[0m \u001B[35m0712-085056-y3y7acgy-10-104-23-245\u001B[0m \u001B[34mThread-10#5421:downloader.l138\u001B[0m \u001B[1;30mDEBUG\u001B[0m \u001B[32mAsset s3://mls.us-east-1.innovation/pdacosta/data/wider_face/dataset/val/9_Press_Conference_Press_Conference_9_757.jpg size is 155.7 kB\u001B[0m\n\u001B[32m2023-10-05 14:35:59,092\u001B[0m \u001B[35m0712-085056-y3y7acgy-10-104-23-245\u001B[0m \u001B[34mThread-10#5421:downloader.l138\u001B[0m \u001B[1;30mDEBUG\u001B[0m \u001B[32mAsset s3://mls.us-east-1.innovation/pdacosta/data/wider_face/dataset/val/9_Press_Conference_Press_Conference_9_784.jpg size is 67.1 kB\u001B[0m\n\u001B[32m2023-10-05 14:35:59,093\u001B[0m \u001B[35m0712-085056-y3y7acgy-10-104-23-245\u001B[0m \u001B[34mThread-10#5421:downloader.l138\u001B[0m \u001B[1;30mDEBUG\u001B[0m \u001B[32mAsset s3://mls.us-east-1.innovation/pdacosta/data/wider_face/dataset/val/9_Press_Conference_Press_Conference_9_710.jpg size is 169.5 kB\u001B[0m\n\u001B[32m2023-10-05 14:35:59,095\u001B[0m \u001B[35m0712-085056-y3y7acgy-10-104-23-245\u001B[0m \u001B[34mThread-10#5421:downloader.l138\u001B[0m \u001B[1;30mDEBUG\u001B[0m \u001B[32mAsset s3://mls.us-east-1.innovation/pdacosta/data/wider_face/dataset/val/9_Press_Conference_Press_Conference_9_74.jpg size is 94.7 kB\u001B[0m\n\u001B[32m2023-10-05 14:35:59,098\u001B[0m \u001B[35m0712-085056-y3y7acgy-10-104-23-245\u001B[0m \u001B[34mThread-10#5421:downloader.l138\u001B[0m \u001B[1;30mDEBUG\u001B[0m \u001B[32mAsset s3://mls.us-east-1.innovation/pdacosta/data/wider_face/dataset/val/9_Press_Conference_Press_Conference_9_767.jpg size is 194.4 kB\u001B[0m\n\u001B[32m2023-10-05 14:35:59,108\u001B[0m \u001B[35m0712-085056-y3y7acgy-10-104-23-245\u001B[0m \u001B[34mThread-10#5421:downloader.l209\u001B[0m \u001B[1;30mDEBUG\u001B[0m \u001B[32mDownloading asset s3://mls.us-east-1.innovation/pdacosta/data/wider_face/dataset/val/9_Press_Conference_Press_Conference_9_615.jpg done\u001B[0m\n\u001B[32m2023-10-05 14:35:59,142\u001B[0m \u001B[35m0712-085056-y3y7acgy-10-104-23-245\u001B[0m \u001B[34mThread-10#5421:downloader.l209\u001B[0m \u001B[1;30mDEBUG\u001B[0m \u001B[32mDownloading asset s3://mls.us-east-1.innovation/pdacosta/data/wider_face/dataset/val/9_Press_Conference_Press_Conference_9_632.jpg done\u001B[0m\n\u001B[32m2023-10-05 14:35:59,145\u001B[0m \u001B[35m0712-085056-y3y7acgy-10-104-23-245\u001B[0m \u001B[34mThread-10#5421:downloader.l138\u001B[0m \u001B[1;30mDEBUG\u001B[0m \u001B[32mAsset s3://mls.us-east-1.innovation/pdacosta/data/wider_face/dataset/val/9_Press_Conference_Press_Conference_9_748.jpg size is 97.2 kB\u001B[0m\n\u001B[32m2023-10-05 14:35:59,154\u001B[0m \u001B[35m0712-085056-y3y7acgy-10-104-23-245\u001B[0m \u001B[34mThread-10#5421:downloader.l209\u001B[0m \u001B[1;30mDEBUG\u001B[0m \u001B[32mDownloading asset s3://mls.us-east-1.innovation/pdacosta/data/wider_face/dataset/val/9_Press_Conference_Press_Conference_9_613.jpg done\u001B[0m\n\u001B[32m2023-10-05 14:35:59,184\u001B[0m \u001B[35m0712-085056-y3y7acgy-10-104-23-245\u001B[0m \u001B[34mThread-10#5421:downloader.l209\u001B[0m \u001B[1;30mDEBUG\u001B[0m \u001B[32mDownloading asset s3://mls.us-east-1.innovation/pdacosta/data/wider_face/dataset/val/9_Press_Conference_Press_Conference_9_693.jpg done\u001B[0m\n\u001B[32m2023-10-05 14:35:59,191\u001B[0m \u001B[35m0712-085056-y3y7acgy-10-104-23-245\u001B[0m \u001B[34mThread-10#5421:downloader.l209\u001B[0m \u001B[1;30mDEBUG\u001B[0m \u001B[32mDownloading asset s3://mls.us-east-1.innovation/pdacosta/data/wider_face/dataset/val/9_Press_Conference_Press_Conference_9_66.jpg done\u001B[0m\n\u001B[32m2023-10-05 14:35:59,202\u001B[0m \u001B[35m0712-085056-y3y7acgy-10-104-23-245\u001B[0m \u001B[34mThread-10#5421:downloader.l209\u001B[0m \u001B[1;30mDEBUG\u001B[0m \u001B[32mDownloading asset s3://mls.us-east-1.innovation/pdacosta/data/wider_face/dataset/val/9_Press_Conference_Press_Conference_9_648.jpg done\u001B[0m\n\u001B[32m2023-10-05 14:35:59,210\u001B[0m \u001B[35m0712-085056-y3y7acgy-10-104-23-245\u001B[0m \u001B[34mThread-10#5421:downloader.l209\u001B[0m \u001B[1;30mDEBUG\u001B[0m \u001B[32mDownloading asset s3://mls.us-east-1.innovation/pdacosta/data/wider_face/dataset/val/9_Press_Conference_Press_Conference_9_784.jpg done\u001B[0m\n\u001B[32m2023-10-05 14:35:59,213\u001B[0m \u001B[35m0712-085056-y3y7acgy-10-104-23-245\u001B[0m \u001B[34mThread-10#5421:downloader.l209\u001B[0m \u001B[1;30mDEBUG\u001B[0m \u001B[32mDownloading asset s3://mls.us-east-1.innovation/pdacosta/data/wider_face/dataset/val/9_Press_Conference_Press_Conference_9_658.jpg done\u001B[0m\n\u001B[32m2023-10-05 14:35:59,257\u001B[0m \u001B[35m0712-085056-y3y7acgy-10-104-23-245\u001B[0m \u001B[34mThread-10#5421:downloader.l209\u001B[0m \u001B[1;30mDEBUG\u001B[0m \u001B[32mDownloading asset s3://mls.us-east-1.innovation/pdacosta/data/wider_face/dataset/val/9_Press_Conference_Press_Conference_9_607.jpg done\u001B[0m\n\u001B[32m2023-10-05 14:35:59,273\u001B[0m \u001B[35m0712-085056-y3y7acgy-10-104-23-245\u001B[0m \u001B[34mThread-10#5421:downloader.l209\u001B[0m \u001B[1;30mDEBUG\u001B[0m \u001B[32mDownloading asset s3://mls.us-east-1.innovation/pdacosta/data/wider_face/dataset/val/9_Press_Conference_Press_Conference_9_655.jpg done\u001B[0m\n\u001B[32m2023-10-05 14:35:59,285\u001B[0m \u001B[35m0712-085056-y3y7acgy-10-104-23-245\u001B[0m \u001B[34mThread-10#5421:downloader.l209\u001B[0m \u001B[1;30mDEBUG\u001B[0m \u001B[32mDownloading asset s3://mls.us-east-1.innovation/pdacosta/data/wider_face/dataset/val/9_Press_Conference_Press_Conference_9_710.jpg done\u001B[0m\n\u001B[32m2023-10-05 14:35:59,288\u001B[0m \u001B[35m0712-085056-y3y7acgy-10-104-23-245\u001B[0m \u001B[34mThread-10#5421:downloader.l209\u001B[0m \u001B[1;30mDEBUG\u001B[0m \u001B[32mDownloading asset s3://mls.us-east-1.innovation/pdacosta/data/wider_face/dataset/val/9_Press_Conference_Press_Conference_9_748.jpg done\u001B[0m\n\u001B[32m2023-10-05 14:35:59,295\u001B[0m \u001B[35m0712-085056-y3y7acgy-10-104-23-245\u001B[0m \u001B[34mThread-10#5421:downloader.l209\u001B[0m \u001B[1;30mDEBUG\u001B[0m \u001B[32mDownloading asset s3://mls.us-east-1.innovation/pdacosta/data/wider_face/dataset/val/9_Press_Conference_Press_Conference_9_636.jpg done\u001B[0m\n\u001B[32m2023-10-05 14:35:59,310\u001B[0m \u001B[35m0712-085056-y3y7acgy-10-104-23-245\u001B[0m \u001B[34mThread-10#5421:downloader.l209\u001B[0m \u001B[1;30mDEBUG\u001B[0m \u001B[32mDownloading asset s3://mls.us-east-1.innovation/pdacosta/data/wider_face/dataset/val/9_Press_Conference_Press_Conference_9_767.jpg done\u001B[0m\n\u001B[32m2023-10-05 14:35:59,322\u001B[0m \u001B[35m0712-085056-y3y7acgy-10-104-23-245\u001B[0m \u001B[34mThread-10#5421:downloader.l209\u001B[0m \u001B[1;30mDEBUG\u001B[0m \u001B[32mDownloading asset s3://mls.us-east-1.innovation/pdacosta/data/wider_face/dataset/val/9_Press_Conference_Press_Conference_9_74.jpg done\u001B[0m\n\u001B[32m2023-10-05 14:35:59,342\u001B[0m \u001B[35m0712-085056-y3y7acgy-10-104-23-245\u001B[0m \u001B[34mThread-10#5421:downloader.l209\u001B[0m \u001B[1;30mDEBUG\u001B[0m \u001B[32mDownloading asset s3://mls.us-east-1.innovation/pdacosta/data/wider_face/dataset/val/9_Press_Conference_Press_Conference_9_757.jpg done\u001B[0m\n\u001B[32m2023-10-05 14:35:59,474\u001B[0m \u001B[35m0712-085056-y3y7acgy-10-104-23-245\u001B[0m \u001B[34mThread-10#5421:downloader.l83\u001B[0m \u001B[1;30mDEBUG\u001B[0m \u001B[32mDownloading asset s3://mls.us-east-1.innovation/pdacosta/data/wider_face/dataset/val/9_Press_Conference_Press_Conference_9_828.jpg ...\u001B[0m\n\u001B[32m2023-10-05 14:35:59,476\u001B[0m \u001B[35m0712-085056-y3y7acgy-10-104-23-245\u001B[0m \u001B[34mThread-10#5421:downloader.l83\u001B[0m \u001B[1;30mDEBUG\u001B[0m \u001B[32mDownloading asset s3://mls.us-east-1.innovation/pdacosta/data/wider_face/dataset/val/9_Press_Conference_Press_Conference_9_849.jpg ...\u001B[0m\n\u001B[32m2023-10-05 14:35:59,478\u001B[0m \u001B[35m0712-085056-y3y7acgy-10-104-23-245\u001B[0m \u001B[34mThread-10#5421:downloader.l83\u001B[0m \u001B[1;30mDEBUG\u001B[0m \u001B[32mDownloading asset s3://mls.us-east-1.innovation/pdacosta/data/wider_face/dataset/val/9_Press_Conference_Press_Conference_9_872.jpg ...\u001B[0m\n\u001B[32m2023-10-05 14:35:59,480\u001B[0m \u001B[35m0712-085056-y3y7acgy-10-104-23-245\u001B[0m \u001B[34mThread-10#5421:downloader.l83\u001B[0m \u001B[1;30mDEBUG\u001B[0m \u001B[32mDownloading asset s3://mls.us-east-1.innovation/pdacosta/data/wider_face/dataset/val/9_Press_Conference_Press_Conference_9_883.jpg ...\u001B[0m\n\u001B[32m2023-10-05 14:35:59,482\u001B[0m \u001B[35m0712-085056-y3y7acgy-10-104-23-245\u001B[0m \u001B[34mThread-10#5421:downloader.l83\u001B[0m \u001B[1;30mDEBUG\u001B[0m \u001B[32mDownloading asset s3://mls.us-east-1.innovation/pdacosta/data/wider_face/dataset/val/9_Press_Conference_Press_Conference_9_89.jpg ...\u001B[0m\n\u001B[32m2023-10-05 14:35:59,483\u001B[0m \u001B[35m0712-085056-y3y7acgy-10-104-23-245\u001B[0m \u001B[34mThread-10#5421:downloader.l83\u001B[0m \u001B[1;30mDEBUG\u001B[0m \u001B[32mDownloading asset s3://mls.us-east-1.innovation/pdacosta/data/wider_face/dataset/val/9_Press_Conference_Press_Conference_9_907.jpg ...\u001B[0m\n\u001B[32m2023-10-05 14:35:59,485\u001B[0m \u001B[35m0712-085056-y3y7acgy-10-104-23-245\u001B[0m \u001B[34mThread-10#5421:downloader.l83\u001B[0m \u001B[1;30mDEBUG\u001B[0m \u001B[32mDownloading asset s3://mls.us-east-1.innovation/pdacosta/data/wider_face/dataset/val/9_Press_Conference_Press_Conference_9_924.jpg ...\u001B[0m\n\u001B[32m2023-10-05 14:35:59,486\u001B[0m \u001B[35m0712-085056-y3y7acgy-10-104-23-245\u001B[0m \u001B[34mThread-10#5421:downloader.l83\u001B[0m \u001B[1;30mDEBUG\u001B[0m \u001B[32mDownloading asset s3://mls.us-east-1.innovation/pdacosta/data/wider_face/dataset/val/9_Press_Conference_Press_Conference_9_930.jpg ...\u001B[0m\n\u001B[32m2023-10-05 14:35:59,488\u001B[0m \u001B[35m0712-085056-y3y7acgy-10-104-23-245\u001B[0m \u001B[34mThread-10#5421:downloader.l83\u001B[0m \u001B[1;30mDEBUG\u001B[0m \u001B[32mDownloading asset s3://mls.us-east-1.innovation/pdacosta/data/wider_face/dataset/val/9_Press_Conference_Press_Conference_9_933.jpg ...\u001B[0m\n\u001B[32m2023-10-05 14:35:59,489\u001B[0m \u001B[35m0712-085056-y3y7acgy-10-104-23-245\u001B[0m \u001B[34mThread-10#5421:downloader.l83\u001B[0m \u001B[1;30mDEBUG\u001B[0m \u001B[32mDownloading asset s3://mls.us-east-1.innovation/pdacosta/data/wider_face/dataset/val/9_Press_Conference_Press_Conference_9_945.jpg ...\u001B[0m\n\u001B[32m2023-10-05 14:35:59,491\u001B[0m \u001B[35m0712-085056-y3y7acgy-10-104-23-245\u001B[0m \u001B[34mThread-10#5421:downloader.l138\u001B[0m \u001B[1;30mDEBUG\u001B[0m \u001B[32mAsset s3://mls.us-east-1.innovation/pdacosta/data/wider_face/dataset/val/9_Press_Conference_Press_Conference_9_828.jpg size is 225.5 kB\u001B[0m\n\u001B[32m2023-10-05 14:35:59,493\u001B[0m \u001B[35m0712-085056-y3y7acgy-10-104-23-245\u001B[0m \u001B[34mThread-10#5421:downloader.l138\u001B[0m \u001B[1;30mDEBUG\u001B[0m \u001B[32mAsset s3://mls.us-east-1.innovation/pdacosta/data/wider_face/dataset/val/9_Press_Conference_Press_Conference_9_872.jpg size is 166.4 kB\u001B[0m\n\u001B[32m2023-10-05 14:35:59,496\u001B[0m \u001B[35m0712-085056-y3y7acgy-10-104-23-245\u001B[0m \u001B[34mThread-10#5421:downloader.l138\u001B[0m \u001B[1;30mDEBUG\u001B[0m \u001B[32mAsset s3://mls.us-east-1.innovation/pdacosta/data/wider_face/dataset/val/9_Press_Conference_Press_Conference_9_849.jpg size is 102.8 kB\u001B[0m\n\u001B[32m2023-10-05 14:35:59,498\u001B[0m \u001B[35m0712-085056-y3y7acgy-10-104-23-245\u001B[0m \u001B[34mThread-10#5421:downloader.l138\u001B[0m \u001B[1;30mDEBUG\u001B[0m \u001B[32mAsset s3://mls.us-east-1.innovation/pdacosta/data/wider_face/dataset/val/9_Press_Conference_Press_Conference_9_89.jpg size is 106.5 kB\u001B[0m\n\u001B[32m2023-10-05 14:35:59,500\u001B[0m \u001B[35m0712-085056-y3y7acgy-10-104-23-245\u001B[0m \u001B[34mThread-10#5421:downloader.l138\u001B[0m \u001B[1;30mDEBUG\u001B[0m \u001B[32mAsset s3://mls.us-east-1.innovation/pdacosta/data/wider_face/dataset/val/9_Press_Conference_Press_Conference_9_883.jpg size is 134.4 kB\u001B[0m\n\u001B[32m2023-10-05 14:35:59,502\u001B[0m \u001B[35m0712-085056-y3y7acgy-10-104-23-245\u001B[0m \u001B[34mThread-10#5421:downloader.l138\u001B[0m \u001B[1;30mDEBUG\u001B[0m \u001B[32mAsset s3://mls.us-east-1.innovation/pdacosta/data/wider_face/dataset/val/9_Press_Conference_Press_Conference_9_924.jpg size is 99.3 kB\u001B[0m\n\u001B[32m2023-10-05 14:35:59,504\u001B[0m \u001B[35m0712-085056-y3y7acgy-10-104-23-245\u001B[0m \u001B[34mThread-10#5421:downloader.l138\u001B[0m \u001B[1;30mDEBUG\u001B[0m \u001B[32mAsset s3://mls.us-east-1.innovation/pdacosta/data/wider_face/dataset/val/9_Press_Conference_Press_Conference_9_907.jpg size is 193.4 kB\u001B[0m\n\u001B[32m2023-10-05 14:35:59,509\u001B[0m \u001B[35m0712-085056-y3y7acgy-10-104-23-245\u001B[0m \u001B[34mThread-10#5421:downloader.l138\u001B[0m \u001B[1;30mDEBUG\u001B[0m \u001B[32mAsset s3://mls.us-east-1.innovation/pdacosta/data/wider_face/dataset/val/9_Press_Conference_Press_Conference_9_933.jpg size is 206.6 kB\u001B[0m\n\u001B[32m2023-10-05 14:35:59,510\u001B[0m \u001B[35m0712-085056-y3y7acgy-10-104-23-245\u001B[0m \u001B[34mThread-10#5421:downloader.l138\u001B[0m \u001B[1;30mDEBUG\u001B[0m \u001B[32mAsset s3://mls.us-east-1.innovation/pdacosta/data/wider_face/dataset/val/9_Press_Conference_Press_Conference_9_930.jpg size is 204.4 kB\u001B[0m\n\u001B[32m2023-10-05 14:35:59,512\u001B[0m \u001B[35m0712-085056-y3y7acgy-10-104-23-245\u001B[0m \u001B[34mThread-10#5421:downloader.l138\u001B[0m \u001B[1;30mDEBUG\u001B[0m \u001B[32mAsset s3://mls.us-east-1.innovation/pdacosta/data/wider_face/dataset/val/9_Press_Conference_Press_Conference_9_945.jpg size is 190.0 kB\u001B[0m\n\u001B[32m2023-10-05 14:35:59,576\u001B[0m \u001B[35m0712-085056-y3y7acgy-10-104-23-245\u001B[0m \u001B[34mThread-10#5421:downloader.l209\u001B[0m \u001B[1;30mDEBUG\u001B[0m \u001B[32mDownloading asset s3://mls.us-east-1.innovation/pdacosta/data/wider_face/dataset/val/9_Press_Conference_Press_Conference_9_828.jpg done\u001B[0m\n\u001B[32m2023-10-05 14:35:59,596\u001B[0m \u001B[35m0712-085056-y3y7acgy-10-104-23-245\u001B[0m \u001B[34mThread-10#5421:downloader.l209\u001B[0m \u001B[1;30mDEBUG\u001B[0m \u001B[32mDownloading asset s3://mls.us-east-1.innovation/pdacosta/data/wider_face/dataset/val/9_Press_Conference_Press_Conference_9_872.jpg done\u001B[0m\n\u001B[32m2023-10-05 14:35:59,606\u001B[0m \u001B[35m0712-085056-y3y7acgy-10-104-23-245\u001B[0m \u001B[34mThread-10#5421:downloader.l209\u001B[0m \u001B[1;30mDEBUG\u001B[0m \u001B[32mDownloading asset s3://mls.us-east-1.innovation/pdacosta/data/wider_face/dataset/val/9_Press_Conference_Press_Conference_9_907.jpg done\u001B[0m\n\u001B[32m2023-10-05 14:35:59,609\u001B[0m \u001B[35m0712-085056-y3y7acgy-10-104-23-245\u001B[0m \u001B[34mThread-10#5421:downloader.l209\u001B[0m \u001B[1;30mDEBUG\u001B[0m \u001B[32mDownloading asset s3://mls.us-east-1.innovation/pdacosta/data/wider_face/dataset/val/9_Press_Conference_Press_Conference_9_924.jpg done\u001B[0m\n\u001B[32m2023-10-05 14:35:59,648\u001B[0m \u001B[35m0712-085056-y3y7acgy-10-104-23-245\u001B[0m \u001B[34mThread-10#5421:downloader.l209\u001B[0m \u001B[1;30mDEBUG\u001B[0m \u001B[32mDownloading asset s3://mls.us-east-1.innovation/pdacosta/data/wider_face/dataset/val/9_Press_Conference_Press_Conference_9_849.jpg done\u001B[0m\n\u001B[32m2023-10-05 14:35:59,652\u001B[0m \u001B[35m0712-085056-y3y7acgy-10-104-23-245\u001B[0m \u001B[34mThread-10#5421:downloader.l209\u001B[0m \u001B[1;30mDEBUG\u001B[0m \u001B[32mDownloading asset s3://mls.us-east-1.innovation/pdacosta/data/wider_face/dataset/val/9_Press_Conference_Press_Conference_9_930.jpg done\u001B[0m\n\u001B[32m2023-10-05 14:35:59,658\u001B[0m \u001B[35m0712-085056-y3y7acgy-10-104-23-245\u001B[0m \u001B[34mThread-10#5421:downloader.l209\u001B[0m \u001B[1;30mDEBUG\u001B[0m \u001B[32mDownloading asset s3://mls.us-east-1.innovation/pdacosta/data/wider_face/dataset/val/9_Press_Conference_Press_Conference_9_883.jpg done\u001B[0m\n\u001B[32m2023-10-05 14:35:59,666\u001B[0m \u001B[35m0712-085056-y3y7acgy-10-104-23-245\u001B[0m \u001B[34mThread-10#5421:downloader.l209\u001B[0m \u001B[1;30mDEBUG\u001B[0m \u001B[32mDownloading asset s3://mls.us-east-1.innovation/pdacosta/data/wider_face/dataset/val/9_Press_Conference_Press_Conference_9_89.jpg done\u001B[0m\n\u001B[32m2023-10-05 14:35:59,672\u001B[0m \u001B[35m0712-085056-y3y7acgy-10-104-23-245\u001B[0m \u001B[34mThread-10#5421:downloader.l209\u001B[0m \u001B[1;30mDEBUG\u001B[0m \u001B[32mDownloading asset s3://mls.us-east-1.innovation/pdacosta/data/wider_face/dataset/val/9_Press_Conference_Press_Conference_9_945.jpg done\u001B[0m\n\u001B[32m2023-10-05 14:35:59,762\u001B[0m \u001B[35m0712-085056-y3y7acgy-10-104-23-245\u001B[0m \u001B[34mThread-10#5421:downloader.l209\u001B[0m \u001B[1;30mDEBUG\u001B[0m \u001B[32mDownloading asset s3://mls.us-east-1.innovation/pdacosta/data/wider_face/dataset/val/9_Press_Conference_Press_Conference_9_933.jpg done\u001B[0m\n"
     ]
    }
   ],
   "source": [
    "\n",
    "save_uris = []\n",
    "save_boxes = []\n",
    "save_assets = []\n",
    "for i in range(progress, n_uris, batch_size):\n",
    "    batch_uris = uris[i:i+batch_size]\n",
    "    batch_assets = assets[i:i+batch_size]\n",
    "    # we call the model with the batch of uris\n",
    "    calls = [asyncio.wrap_future(input_unit(run_info=gen_message(url=uri))) for uri in batch_uris]\n",
    "    \n",
    "    results = await asyncio.gather(*calls)\n",
    "    \n",
    "    # we need to get the boxes now\n",
    "    batch_boxes = []\n",
    "    for res in results:\n",
    "        frame_detections = res[0][\"frame_detections\"]\n",
    "        detections = frame_detections.detections\n",
    "        boxes = []\n",
    "        if detections:\n",
    "            for frame_detection in detections:\n",
    "                score = frame_detection.classification[0][-1]\n",
    "                box = frame_detection.box\n",
    "                box = transf_any_box(box, \"xyxy\", \"xywh\")\n",
    "                boxes.append({\"score\": score, \"box\": box})\n",
    "                \n",
    "        batch_boxes.append(boxes)\n",
    "    \n",
    "    save_uris += batch_uris\n",
    "    save_boxes += batch_boxes\n",
    "    save_assets += batch_assets\n",
    "    \n",
    "    \n",
    "    if (i + batch_size) % 20000 == 0:\n",
    "        \n",
    "        save_batch(save_assets, save_uris, save_boxes, i+batch_size)\n",
    "\n",
    "        # reset the batch count, save uris, and save boxes\n",
    "        save_uris = []\n",
    "        save_boxes = []\n",
    "        save_assets = []\n",
    "        \n",
    "# Handle the final batch\n",
    "if save_uris:\n",
    "    save_batch(save_assets, save_uris, save_boxes, n_uris)"
   ]
  },
  {
   "cell_type": "code",
   "execution_count": 0,
   "metadata": {
    "application/vnd.databricks.v1+cell": {
     "cellMetadata": {},
     "inputWidgets": {},
     "nuid": "91d52285-f8ff-4063-8561-bc84e4b20db9",
     "showTitle": false,
     "title": ""
    }
   },
   "outputs": [],
   "source": []
  }
 ],
 "metadata": {
  "application/vnd.databricks.v1+notebook": {
   "dashboards": [],
   "language": "python",
   "notebookMetadata": {
    "pythonIndentUnit": 4
   },
   "notebookName": "score_widerface_faces",
   "widgets": {}
  },
  "language_info": {
   "name": "python"
  },
  "orig_nbformat": 4
 },
 "nbformat": 4,
 "nbformat_minor": 0
}
